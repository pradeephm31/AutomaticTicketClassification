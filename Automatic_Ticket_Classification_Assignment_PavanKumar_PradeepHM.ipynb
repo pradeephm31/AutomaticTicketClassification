{
 "cells": [
  {
   "cell_type": "markdown",
   "metadata": {
    "id": "rhR-ZUkwJrFn"
   },
   "source": [
    "## Problem Statement \n",
    "\n",
    "You need to build a model that is able to classify customer complaints based on the products/services. By doing so, you can segregate these tickets into their relevant categories and, therefore, help in the quick resolution of the issue.\n",
    "\n",
    "You will be doing topic modelling on the <b>.json</b> data provided by the company. Since this data is not labelled, you need to apply NMF to analyse patterns and classify tickets into the following five clusters based on their products/services:\n",
    "\n",
    "* Credit card / Prepaid card\n",
    "\n",
    "* Bank account services\n",
    "\n",
    "* Theft/Dispute reporting\n",
    "\n",
    "* Mortgages/loans\n",
    "\n",
    "* Others \n",
    "\n",
    "\n",
    "With the help of topic modelling, you will be able to map each ticket onto its respective department/category. You can then use this data to train any supervised model such as logistic regression, decision tree or random forest. Using this trained model, you can classify any new customer complaint support ticket into its relevant department."
   ]
  },
  {
   "cell_type": "markdown",
   "metadata": {
    "id": "mcgXVNyaLUFS"
   },
   "source": [
    "## Pipelines that needs to be performed:\n",
    "\n",
    "You need to perform the following eight major tasks to complete the assignment:\n",
    "\n",
    "1.  Data loading\n",
    "\n",
    "2. Text preprocessing\n",
    "\n",
    "3. Exploratory data analysis (EDA)\n",
    "\n",
    "4. Feature extraction\n",
    "\n",
    "5. Topic modelling \n",
    "\n",
    "6. Model building using supervised learning\n",
    "\n",
    "7. Model training and evaluation\n",
    "\n",
    "8. Model inference"
   ]
  },
  {
   "cell_type": "markdown",
   "metadata": {
    "id": "JuLFIymAL58u"
   },
   "source": [
    "## Importing the necessary libraries"
   ]
  },
  {
   "cell_type": "code",
   "execution_count": 1,
   "metadata": {
    "id": "O-Q9pqrcJrFr"
   },
   "outputs": [],
   "source": [
    "import json \n",
    "import numpy as np\n",
    "import pandas as pd\n",
    "import re, nltk, spacy, string\n",
    "import en_core_web_sm\n",
    "nlp = en_core_web_sm.load()\n",
    "import seaborn as sns\n",
    "import matplotlib.pyplot as plt\n",
    "%matplotlib inline\n",
    "\n",
    "\n",
    "from sklearn.feature_extraction.text import CountVectorizer, TfidfVectorizer\n",
    "from pprint import pprint"
   ]
  },
  {
   "cell_type": "markdown",
   "metadata": {
    "id": "KtRLCsNVJrFt"
   },
   "source": [
    "## Loading the data\n",
    "\n",
    "The data is in JSON format and we need to convert it to a dataframe."
   ]
  },
  {
   "cell_type": "code",
   "execution_count": 2,
   "metadata": {
    "id": "puVzIf_iJrFt"
   },
   "outputs": [],
   "source": [
    "# Opening JSON file \n",
    "f = open('complaints-2021-05-14_08_16.json', 'r')\n",
    "  \n",
    "# returns JSON object as  \n",
    "# a dictionary \n",
    "data = json.load(f)\n",
    "df=pd.json_normalize(data)"
   ]
  },
  {
   "cell_type": "markdown",
   "metadata": {
    "id": "_xYpH-sAJrFu"
   },
   "source": [
    "## Data preparation"
   ]
  },
  {
   "cell_type": "code",
   "execution_count": 3,
   "metadata": {
    "id": "Lf8ufHH5JrFu"
   },
   "outputs": [
    {
     "data": {
      "text/html": [
       "<div>\n",
       "<style scoped>\n",
       "    .dataframe tbody tr th:only-of-type {\n",
       "        vertical-align: middle;\n",
       "    }\n",
       "\n",
       "    .dataframe tbody tr th {\n",
       "        vertical-align: top;\n",
       "    }\n",
       "\n",
       "    .dataframe thead th {\n",
       "        text-align: right;\n",
       "    }\n",
       "</style>\n",
       "<table border=\"1\" class=\"dataframe\">\n",
       "  <thead>\n",
       "    <tr style=\"text-align: right;\">\n",
       "      <th></th>\n",
       "      <th>_index</th>\n",
       "      <th>_type</th>\n",
       "      <th>_id</th>\n",
       "      <th>_score</th>\n",
       "      <th>_source.tags</th>\n",
       "      <th>_source.zip_code</th>\n",
       "      <th>_source.complaint_id</th>\n",
       "      <th>_source.issue</th>\n",
       "      <th>_source.date_received</th>\n",
       "      <th>_source.state</th>\n",
       "      <th>...</th>\n",
       "      <th>_source.company_response</th>\n",
       "      <th>_source.company</th>\n",
       "      <th>_source.submitted_via</th>\n",
       "      <th>_source.date_sent_to_company</th>\n",
       "      <th>_source.company_public_response</th>\n",
       "      <th>_source.sub_product</th>\n",
       "      <th>_source.timely</th>\n",
       "      <th>_source.complaint_what_happened</th>\n",
       "      <th>_source.sub_issue</th>\n",
       "      <th>_source.consumer_consent_provided</th>\n",
       "    </tr>\n",
       "  </thead>\n",
       "  <tbody>\n",
       "    <tr>\n",
       "      <th>0</th>\n",
       "      <td>complaint-public-v2</td>\n",
       "      <td>complaint</td>\n",
       "      <td>3211475</td>\n",
       "      <td>0.0</td>\n",
       "      <td>None</td>\n",
       "      <td>90301</td>\n",
       "      <td>3211475</td>\n",
       "      <td>Attempts to collect debt not owed</td>\n",
       "      <td>2019-04-13T12:00:00-05:00</td>\n",
       "      <td>CA</td>\n",
       "      <td>...</td>\n",
       "      <td>Closed with explanation</td>\n",
       "      <td>JPMORGAN CHASE &amp; CO.</td>\n",
       "      <td>Web</td>\n",
       "      <td>2019-04-13T12:00:00-05:00</td>\n",
       "      <td>None</td>\n",
       "      <td>Credit card debt</td>\n",
       "      <td>Yes</td>\n",
       "      <td></td>\n",
       "      <td>Debt is not yours</td>\n",
       "      <td>Consent not provided</td>\n",
       "    </tr>\n",
       "    <tr>\n",
       "      <th>1</th>\n",
       "      <td>complaint-public-v2</td>\n",
       "      <td>complaint</td>\n",
       "      <td>3229299</td>\n",
       "      <td>0.0</td>\n",
       "      <td>Servicemember</td>\n",
       "      <td>319XX</td>\n",
       "      <td>3229299</td>\n",
       "      <td>Written notification about debt</td>\n",
       "      <td>2019-05-01T12:00:00-05:00</td>\n",
       "      <td>GA</td>\n",
       "      <td>...</td>\n",
       "      <td>Closed with explanation</td>\n",
       "      <td>JPMORGAN CHASE &amp; CO.</td>\n",
       "      <td>Web</td>\n",
       "      <td>2019-05-01T12:00:00-05:00</td>\n",
       "      <td>None</td>\n",
       "      <td>Credit card debt</td>\n",
       "      <td>Yes</td>\n",
       "      <td>Good morning my name is XXXX XXXX and I apprec...</td>\n",
       "      <td>Didn't receive enough information to verify debt</td>\n",
       "      <td>Consent provided</td>\n",
       "    </tr>\n",
       "    <tr>\n",
       "      <th>2</th>\n",
       "      <td>complaint-public-v2</td>\n",
       "      <td>complaint</td>\n",
       "      <td>3199379</td>\n",
       "      <td>0.0</td>\n",
       "      <td>None</td>\n",
       "      <td>77069</td>\n",
       "      <td>3199379</td>\n",
       "      <td>Other features, terms, or problems</td>\n",
       "      <td>2019-04-02T12:00:00-05:00</td>\n",
       "      <td>TX</td>\n",
       "      <td>...</td>\n",
       "      <td>Closed with explanation</td>\n",
       "      <td>JPMORGAN CHASE &amp; CO.</td>\n",
       "      <td>Web</td>\n",
       "      <td>2019-04-02T12:00:00-05:00</td>\n",
       "      <td>None</td>\n",
       "      <td>General-purpose credit card or charge card</td>\n",
       "      <td>Yes</td>\n",
       "      <td>I upgraded my XXXX XXXX card in XX/XX/2018 and...</td>\n",
       "      <td>Problem with rewards from credit card</td>\n",
       "      <td>Consent provided</td>\n",
       "    </tr>\n",
       "    <tr>\n",
       "      <th>3</th>\n",
       "      <td>complaint-public-v2</td>\n",
       "      <td>complaint</td>\n",
       "      <td>2673060</td>\n",
       "      <td>0.0</td>\n",
       "      <td>None</td>\n",
       "      <td>48066</td>\n",
       "      <td>2673060</td>\n",
       "      <td>Trouble during payment process</td>\n",
       "      <td>2017-09-13T12:00:00-05:00</td>\n",
       "      <td>MI</td>\n",
       "      <td>...</td>\n",
       "      <td>Closed with explanation</td>\n",
       "      <td>JPMORGAN CHASE &amp; CO.</td>\n",
       "      <td>Web</td>\n",
       "      <td>2017-09-14T12:00:00-05:00</td>\n",
       "      <td>None</td>\n",
       "      <td>Conventional home mortgage</td>\n",
       "      <td>Yes</td>\n",
       "      <td></td>\n",
       "      <td>None</td>\n",
       "      <td>Consent not provided</td>\n",
       "    </tr>\n",
       "    <tr>\n",
       "      <th>4</th>\n",
       "      <td>complaint-public-v2</td>\n",
       "      <td>complaint</td>\n",
       "      <td>3203545</td>\n",
       "      <td>0.0</td>\n",
       "      <td>None</td>\n",
       "      <td>10473</td>\n",
       "      <td>3203545</td>\n",
       "      <td>Fees or interest</td>\n",
       "      <td>2019-04-05T12:00:00-05:00</td>\n",
       "      <td>NY</td>\n",
       "      <td>...</td>\n",
       "      <td>Closed with explanation</td>\n",
       "      <td>JPMORGAN CHASE &amp; CO.</td>\n",
       "      <td>Referral</td>\n",
       "      <td>2019-04-05T12:00:00-05:00</td>\n",
       "      <td>None</td>\n",
       "      <td>General-purpose credit card or charge card</td>\n",
       "      <td>Yes</td>\n",
       "      <td></td>\n",
       "      <td>Charged too much interest</td>\n",
       "      <td>N/A</td>\n",
       "    </tr>\n",
       "  </tbody>\n",
       "</table>\n",
       "<p>5 rows × 22 columns</p>\n",
       "</div>"
      ],
      "text/plain": [
       "                _index      _type      _id  _score   _source.tags  \\\n",
       "0  complaint-public-v2  complaint  3211475     0.0           None   \n",
       "1  complaint-public-v2  complaint  3229299     0.0  Servicemember   \n",
       "2  complaint-public-v2  complaint  3199379     0.0           None   \n",
       "3  complaint-public-v2  complaint  2673060     0.0           None   \n",
       "4  complaint-public-v2  complaint  3203545     0.0           None   \n",
       "\n",
       "  _source.zip_code _source.complaint_id                       _source.issue  \\\n",
       "0            90301              3211475   Attempts to collect debt not owed   \n",
       "1            319XX              3229299     Written notification about debt   \n",
       "2            77069              3199379  Other features, terms, or problems   \n",
       "3            48066              2673060      Trouble during payment process   \n",
       "4            10473              3203545                    Fees or interest   \n",
       "\n",
       "       _source.date_received _source.state  ... _source.company_response  \\\n",
       "0  2019-04-13T12:00:00-05:00            CA  ...  Closed with explanation   \n",
       "1  2019-05-01T12:00:00-05:00            GA  ...  Closed with explanation   \n",
       "2  2019-04-02T12:00:00-05:00            TX  ...  Closed with explanation   \n",
       "3  2017-09-13T12:00:00-05:00            MI  ...  Closed with explanation   \n",
       "4  2019-04-05T12:00:00-05:00            NY  ...  Closed with explanation   \n",
       "\n",
       "        _source.company _source.submitted_via _source.date_sent_to_company  \\\n",
       "0  JPMORGAN CHASE & CO.                   Web    2019-04-13T12:00:00-05:00   \n",
       "1  JPMORGAN CHASE & CO.                   Web    2019-05-01T12:00:00-05:00   \n",
       "2  JPMORGAN CHASE & CO.                   Web    2019-04-02T12:00:00-05:00   \n",
       "3  JPMORGAN CHASE & CO.                   Web    2017-09-14T12:00:00-05:00   \n",
       "4  JPMORGAN CHASE & CO.              Referral    2019-04-05T12:00:00-05:00   \n",
       "\n",
       "  _source.company_public_response                         _source.sub_product  \\\n",
       "0                            None                            Credit card debt   \n",
       "1                            None                            Credit card debt   \n",
       "2                            None  General-purpose credit card or charge card   \n",
       "3                            None                  Conventional home mortgage   \n",
       "4                            None  General-purpose credit card or charge card   \n",
       "\n",
       "  _source.timely                    _source.complaint_what_happened  \\\n",
       "0            Yes                                                      \n",
       "1            Yes  Good morning my name is XXXX XXXX and I apprec...   \n",
       "2            Yes  I upgraded my XXXX XXXX card in XX/XX/2018 and...   \n",
       "3            Yes                                                      \n",
       "4            Yes                                                      \n",
       "\n",
       "                                  _source.sub_issue  \\\n",
       "0                                 Debt is not yours   \n",
       "1  Didn't receive enough information to verify debt   \n",
       "2             Problem with rewards from credit card   \n",
       "3                                              None   \n",
       "4                         Charged too much interest   \n",
       "\n",
       "  _source.consumer_consent_provided  \n",
       "0              Consent not provided  \n",
       "1                  Consent provided  \n",
       "2                  Consent provided  \n",
       "3              Consent not provided  \n",
       "4                               N/A  \n",
       "\n",
       "[5 rows x 22 columns]"
      ]
     },
     "execution_count": 3,
     "metadata": {},
     "output_type": "execute_result"
    }
   ],
   "source": [
    "# Inspect the dataframe to understand the given data.\n",
    "df.head()"
   ]
  },
  {
   "cell_type": "code",
   "execution_count": 4,
   "metadata": {
    "id": "Dwcty-wmJrFw"
   },
   "outputs": [
    {
     "data": {
      "text/plain": [
       "Index(['_index', '_type', '_id', '_score', '_source.tags', '_source.zip_code',\n",
       "       '_source.complaint_id', '_source.issue', '_source.date_received',\n",
       "       '_source.state', '_source.consumer_disputed', '_source.product',\n",
       "       '_source.company_response', '_source.company', '_source.submitted_via',\n",
       "       '_source.date_sent_to_company', '_source.company_public_response',\n",
       "       '_source.sub_product', '_source.timely',\n",
       "       '_source.complaint_what_happened', '_source.sub_issue',\n",
       "       '_source.consumer_consent_provided'],\n",
       "      dtype='object')"
      ]
     },
     "execution_count": 4,
     "metadata": {},
     "output_type": "execute_result"
    }
   ],
   "source": [
    "#print the column names\n",
    "df.columns"
   ]
  },
  {
   "cell_type": "markdown",
   "metadata": {},
   "source": [
    "#### Analyze Columns to rename appropriately"
   ]
  },
  {
   "cell_type": "code",
   "execution_count": 5,
   "metadata": {},
   "outputs": [
    {
     "data": {
      "text/html": [
       "<div>\n",
       "<style scoped>\n",
       "    .dataframe tbody tr th:only-of-type {\n",
       "        vertical-align: middle;\n",
       "    }\n",
       "\n",
       "    .dataframe tbody tr th {\n",
       "        vertical-align: top;\n",
       "    }\n",
       "\n",
       "    .dataframe thead th {\n",
       "        text-align: right;\n",
       "    }\n",
       "</style>\n",
       "<table border=\"1\" class=\"dataframe\">\n",
       "  <thead>\n",
       "    <tr style=\"text-align: right;\">\n",
       "      <th></th>\n",
       "      <th>_index</th>\n",
       "      <th>_type</th>\n",
       "      <th>_id</th>\n",
       "      <th>_score</th>\n",
       "      <th>_source.tags</th>\n",
       "    </tr>\n",
       "  </thead>\n",
       "  <tbody>\n",
       "    <tr>\n",
       "      <th>0</th>\n",
       "      <td>complaint-public-v2</td>\n",
       "      <td>complaint</td>\n",
       "      <td>3211475</td>\n",
       "      <td>0.0</td>\n",
       "      <td>None</td>\n",
       "    </tr>\n",
       "    <tr>\n",
       "      <th>1</th>\n",
       "      <td>complaint-public-v2</td>\n",
       "      <td>complaint</td>\n",
       "      <td>3229299</td>\n",
       "      <td>0.0</td>\n",
       "      <td>Servicemember</td>\n",
       "    </tr>\n",
       "    <tr>\n",
       "      <th>2</th>\n",
       "      <td>complaint-public-v2</td>\n",
       "      <td>complaint</td>\n",
       "      <td>3199379</td>\n",
       "      <td>0.0</td>\n",
       "      <td>None</td>\n",
       "    </tr>\n",
       "    <tr>\n",
       "      <th>3</th>\n",
       "      <td>complaint-public-v2</td>\n",
       "      <td>complaint</td>\n",
       "      <td>2673060</td>\n",
       "      <td>0.0</td>\n",
       "      <td>None</td>\n",
       "    </tr>\n",
       "    <tr>\n",
       "      <th>4</th>\n",
       "      <td>complaint-public-v2</td>\n",
       "      <td>complaint</td>\n",
       "      <td>3203545</td>\n",
       "      <td>0.0</td>\n",
       "      <td>None</td>\n",
       "    </tr>\n",
       "  </tbody>\n",
       "</table>\n",
       "</div>"
      ],
      "text/plain": [
       "                _index      _type      _id  _score   _source.tags\n",
       "0  complaint-public-v2  complaint  3211475     0.0           None\n",
       "1  complaint-public-v2  complaint  3229299     0.0  Servicemember\n",
       "2  complaint-public-v2  complaint  3199379     0.0           None\n",
       "3  complaint-public-v2  complaint  2673060     0.0           None\n",
       "4  complaint-public-v2  complaint  3203545     0.0           None"
      ]
     },
     "execution_count": 5,
     "metadata": {},
     "output_type": "execute_result"
    }
   ],
   "source": [
    "df.iloc[:,0:5].head()"
   ]
  },
  {
   "cell_type": "code",
   "execution_count": 6,
   "metadata": {},
   "outputs": [
    {
     "data": {
      "text/html": [
       "<div>\n",
       "<style scoped>\n",
       "    .dataframe tbody tr th:only-of-type {\n",
       "        vertical-align: middle;\n",
       "    }\n",
       "\n",
       "    .dataframe tbody tr th {\n",
       "        vertical-align: top;\n",
       "    }\n",
       "\n",
       "    .dataframe thead th {\n",
       "        text-align: right;\n",
       "    }\n",
       "</style>\n",
       "<table border=\"1\" class=\"dataframe\">\n",
       "  <thead>\n",
       "    <tr style=\"text-align: right;\">\n",
       "      <th></th>\n",
       "      <th>_source.zip_code</th>\n",
       "      <th>_source.complaint_id</th>\n",
       "      <th>_source.issue</th>\n",
       "      <th>_source.date_received</th>\n",
       "      <th>_source.state</th>\n",
       "    </tr>\n",
       "  </thead>\n",
       "  <tbody>\n",
       "    <tr>\n",
       "      <th>0</th>\n",
       "      <td>90301</td>\n",
       "      <td>3211475</td>\n",
       "      <td>Attempts to collect debt not owed</td>\n",
       "      <td>2019-04-13T12:00:00-05:00</td>\n",
       "      <td>CA</td>\n",
       "    </tr>\n",
       "    <tr>\n",
       "      <th>1</th>\n",
       "      <td>319XX</td>\n",
       "      <td>3229299</td>\n",
       "      <td>Written notification about debt</td>\n",
       "      <td>2019-05-01T12:00:00-05:00</td>\n",
       "      <td>GA</td>\n",
       "    </tr>\n",
       "    <tr>\n",
       "      <th>2</th>\n",
       "      <td>77069</td>\n",
       "      <td>3199379</td>\n",
       "      <td>Other features, terms, or problems</td>\n",
       "      <td>2019-04-02T12:00:00-05:00</td>\n",
       "      <td>TX</td>\n",
       "    </tr>\n",
       "    <tr>\n",
       "      <th>3</th>\n",
       "      <td>48066</td>\n",
       "      <td>2673060</td>\n",
       "      <td>Trouble during payment process</td>\n",
       "      <td>2017-09-13T12:00:00-05:00</td>\n",
       "      <td>MI</td>\n",
       "    </tr>\n",
       "    <tr>\n",
       "      <th>4</th>\n",
       "      <td>10473</td>\n",
       "      <td>3203545</td>\n",
       "      <td>Fees or interest</td>\n",
       "      <td>2019-04-05T12:00:00-05:00</td>\n",
       "      <td>NY</td>\n",
       "    </tr>\n",
       "  </tbody>\n",
       "</table>\n",
       "</div>"
      ],
      "text/plain": [
       "  _source.zip_code _source.complaint_id                       _source.issue  \\\n",
       "0            90301              3211475   Attempts to collect debt not owed   \n",
       "1            319XX              3229299     Written notification about debt   \n",
       "2            77069              3199379  Other features, terms, or problems   \n",
       "3            48066              2673060      Trouble during payment process   \n",
       "4            10473              3203545                    Fees or interest   \n",
       "\n",
       "       _source.date_received _source.state  \n",
       "0  2019-04-13T12:00:00-05:00            CA  \n",
       "1  2019-05-01T12:00:00-05:00            GA  \n",
       "2  2019-04-02T12:00:00-05:00            TX  \n",
       "3  2017-09-13T12:00:00-05:00            MI  \n",
       "4  2019-04-05T12:00:00-05:00            NY  "
      ]
     },
     "execution_count": 6,
     "metadata": {},
     "output_type": "execute_result"
    }
   ],
   "source": [
    "df.iloc[:,5:10].head()"
   ]
  },
  {
   "cell_type": "code",
   "execution_count": 7,
   "metadata": {},
   "outputs": [
    {
     "data": {
      "text/html": [
       "<div>\n",
       "<style scoped>\n",
       "    .dataframe tbody tr th:only-of-type {\n",
       "        vertical-align: middle;\n",
       "    }\n",
       "\n",
       "    .dataframe tbody tr th {\n",
       "        vertical-align: top;\n",
       "    }\n",
       "\n",
       "    .dataframe thead th {\n",
       "        text-align: right;\n",
       "    }\n",
       "</style>\n",
       "<table border=\"1\" class=\"dataframe\">\n",
       "  <thead>\n",
       "    <tr style=\"text-align: right;\">\n",
       "      <th></th>\n",
       "      <th>_source.consumer_disputed</th>\n",
       "      <th>_source.product</th>\n",
       "      <th>_source.company_response</th>\n",
       "      <th>_source.company</th>\n",
       "      <th>_source.submitted_via</th>\n",
       "    </tr>\n",
       "  </thead>\n",
       "  <tbody>\n",
       "    <tr>\n",
       "      <th>0</th>\n",
       "      <td>N/A</td>\n",
       "      <td>Debt collection</td>\n",
       "      <td>Closed with explanation</td>\n",
       "      <td>JPMORGAN CHASE &amp; CO.</td>\n",
       "      <td>Web</td>\n",
       "    </tr>\n",
       "    <tr>\n",
       "      <th>1</th>\n",
       "      <td>N/A</td>\n",
       "      <td>Debt collection</td>\n",
       "      <td>Closed with explanation</td>\n",
       "      <td>JPMORGAN CHASE &amp; CO.</td>\n",
       "      <td>Web</td>\n",
       "    </tr>\n",
       "    <tr>\n",
       "      <th>2</th>\n",
       "      <td>N/A</td>\n",
       "      <td>Credit card or prepaid card</td>\n",
       "      <td>Closed with explanation</td>\n",
       "      <td>JPMORGAN CHASE &amp; CO.</td>\n",
       "      <td>Web</td>\n",
       "    </tr>\n",
       "    <tr>\n",
       "      <th>3</th>\n",
       "      <td>N/A</td>\n",
       "      <td>Mortgage</td>\n",
       "      <td>Closed with explanation</td>\n",
       "      <td>JPMORGAN CHASE &amp; CO.</td>\n",
       "      <td>Web</td>\n",
       "    </tr>\n",
       "    <tr>\n",
       "      <th>4</th>\n",
       "      <td>N/A</td>\n",
       "      <td>Credit card or prepaid card</td>\n",
       "      <td>Closed with explanation</td>\n",
       "      <td>JPMORGAN CHASE &amp; CO.</td>\n",
       "      <td>Referral</td>\n",
       "    </tr>\n",
       "  </tbody>\n",
       "</table>\n",
       "</div>"
      ],
      "text/plain": [
       "  _source.consumer_disputed              _source.product  \\\n",
       "0                       N/A              Debt collection   \n",
       "1                       N/A              Debt collection   \n",
       "2                       N/A  Credit card or prepaid card   \n",
       "3                       N/A                     Mortgage   \n",
       "4                       N/A  Credit card or prepaid card   \n",
       "\n",
       "  _source.company_response       _source.company _source.submitted_via  \n",
       "0  Closed with explanation  JPMORGAN CHASE & CO.                   Web  \n",
       "1  Closed with explanation  JPMORGAN CHASE & CO.                   Web  \n",
       "2  Closed with explanation  JPMORGAN CHASE & CO.                   Web  \n",
       "3  Closed with explanation  JPMORGAN CHASE & CO.                   Web  \n",
       "4  Closed with explanation  JPMORGAN CHASE & CO.              Referral  "
      ]
     },
     "execution_count": 7,
     "metadata": {},
     "output_type": "execute_result"
    }
   ],
   "source": [
    "df.iloc[:,10:15].head()"
   ]
  },
  {
   "cell_type": "code",
   "execution_count": 8,
   "metadata": {},
   "outputs": [
    {
     "data": {
      "text/plain": [
       "_source.consumer_disputed\n",
       "N/A    35683\n",
       "No     33107\n",
       "Yes     9523\n",
       "Name: count, dtype: int64"
      ]
     },
     "execution_count": 8,
     "metadata": {},
     "output_type": "execute_result"
    }
   ],
   "source": [
    "df['_source.consumer_disputed'].value_counts()"
   ]
  },
  {
   "cell_type": "code",
   "execution_count": 9,
   "metadata": {},
   "outputs": [
    {
     "data": {
      "text/html": [
       "<div>\n",
       "<style scoped>\n",
       "    .dataframe tbody tr th:only-of-type {\n",
       "        vertical-align: middle;\n",
       "    }\n",
       "\n",
       "    .dataframe tbody tr th {\n",
       "        vertical-align: top;\n",
       "    }\n",
       "\n",
       "    .dataframe thead th {\n",
       "        text-align: right;\n",
       "    }\n",
       "</style>\n",
       "<table border=\"1\" class=\"dataframe\">\n",
       "  <thead>\n",
       "    <tr style=\"text-align: right;\">\n",
       "      <th></th>\n",
       "      <th>_source.date_sent_to_company</th>\n",
       "      <th>_source.company_public_response</th>\n",
       "      <th>_source.sub_product</th>\n",
       "      <th>_source.timely</th>\n",
       "      <th>_source.complaint_what_happened</th>\n",
       "    </tr>\n",
       "  </thead>\n",
       "  <tbody>\n",
       "    <tr>\n",
       "      <th>0</th>\n",
       "      <td>2019-04-13T12:00:00-05:00</td>\n",
       "      <td>None</td>\n",
       "      <td>Credit card debt</td>\n",
       "      <td>Yes</td>\n",
       "      <td></td>\n",
       "    </tr>\n",
       "    <tr>\n",
       "      <th>1</th>\n",
       "      <td>2019-05-01T12:00:00-05:00</td>\n",
       "      <td>None</td>\n",
       "      <td>Credit card debt</td>\n",
       "      <td>Yes</td>\n",
       "      <td>Good morning my name is XXXX XXXX and I apprec...</td>\n",
       "    </tr>\n",
       "    <tr>\n",
       "      <th>2</th>\n",
       "      <td>2019-04-02T12:00:00-05:00</td>\n",
       "      <td>None</td>\n",
       "      <td>General-purpose credit card or charge card</td>\n",
       "      <td>Yes</td>\n",
       "      <td>I upgraded my XXXX XXXX card in XX/XX/2018 and...</td>\n",
       "    </tr>\n",
       "    <tr>\n",
       "      <th>3</th>\n",
       "      <td>2017-09-14T12:00:00-05:00</td>\n",
       "      <td>None</td>\n",
       "      <td>Conventional home mortgage</td>\n",
       "      <td>Yes</td>\n",
       "      <td></td>\n",
       "    </tr>\n",
       "    <tr>\n",
       "      <th>4</th>\n",
       "      <td>2019-04-05T12:00:00-05:00</td>\n",
       "      <td>None</td>\n",
       "      <td>General-purpose credit card or charge card</td>\n",
       "      <td>Yes</td>\n",
       "      <td></td>\n",
       "    </tr>\n",
       "  </tbody>\n",
       "</table>\n",
       "</div>"
      ],
      "text/plain": [
       "  _source.date_sent_to_company _source.company_public_response  \\\n",
       "0    2019-04-13T12:00:00-05:00                            None   \n",
       "1    2019-05-01T12:00:00-05:00                            None   \n",
       "2    2019-04-02T12:00:00-05:00                            None   \n",
       "3    2017-09-14T12:00:00-05:00                            None   \n",
       "4    2019-04-05T12:00:00-05:00                            None   \n",
       "\n",
       "                          _source.sub_product _source.timely  \\\n",
       "0                            Credit card debt            Yes   \n",
       "1                            Credit card debt            Yes   \n",
       "2  General-purpose credit card or charge card            Yes   \n",
       "3                  Conventional home mortgage            Yes   \n",
       "4  General-purpose credit card or charge card            Yes   \n",
       "\n",
       "                     _source.complaint_what_happened  \n",
       "0                                                     \n",
       "1  Good morning my name is XXXX XXXX and I apprec...  \n",
       "2  I upgraded my XXXX XXXX card in XX/XX/2018 and...  \n",
       "3                                                     \n",
       "4                                                     "
      ]
     },
     "execution_count": 9,
     "metadata": {},
     "output_type": "execute_result"
    }
   ],
   "source": [
    "df.iloc[:,15:20].head()"
   ]
  },
  {
   "cell_type": "code",
   "execution_count": 10,
   "metadata": {},
   "outputs": [
    {
     "data": {
      "text/html": [
       "<div>\n",
       "<style scoped>\n",
       "    .dataframe tbody tr th:only-of-type {\n",
       "        vertical-align: middle;\n",
       "    }\n",
       "\n",
       "    .dataframe tbody tr th {\n",
       "        vertical-align: top;\n",
       "    }\n",
       "\n",
       "    .dataframe thead th {\n",
       "        text-align: right;\n",
       "    }\n",
       "</style>\n",
       "<table border=\"1\" class=\"dataframe\">\n",
       "  <thead>\n",
       "    <tr style=\"text-align: right;\">\n",
       "      <th></th>\n",
       "      <th>_source.sub_issue</th>\n",
       "      <th>_source.consumer_consent_provided</th>\n",
       "    </tr>\n",
       "  </thead>\n",
       "  <tbody>\n",
       "    <tr>\n",
       "      <th>0</th>\n",
       "      <td>Debt is not yours</td>\n",
       "      <td>Consent not provided</td>\n",
       "    </tr>\n",
       "    <tr>\n",
       "      <th>1</th>\n",
       "      <td>Didn't receive enough information to verify debt</td>\n",
       "      <td>Consent provided</td>\n",
       "    </tr>\n",
       "    <tr>\n",
       "      <th>2</th>\n",
       "      <td>Problem with rewards from credit card</td>\n",
       "      <td>Consent provided</td>\n",
       "    </tr>\n",
       "    <tr>\n",
       "      <th>3</th>\n",
       "      <td>None</td>\n",
       "      <td>Consent not provided</td>\n",
       "    </tr>\n",
       "    <tr>\n",
       "      <th>4</th>\n",
       "      <td>Charged too much interest</td>\n",
       "      <td>N/A</td>\n",
       "    </tr>\n",
       "  </tbody>\n",
       "</table>\n",
       "</div>"
      ],
      "text/plain": [
       "                                  _source.sub_issue  \\\n",
       "0                                 Debt is not yours   \n",
       "1  Didn't receive enough information to verify debt   \n",
       "2             Problem with rewards from credit card   \n",
       "3                                              None   \n",
       "4                         Charged too much interest   \n",
       "\n",
       "  _source.consumer_consent_provided  \n",
       "0              Consent not provided  \n",
       "1                  Consent provided  \n",
       "2                  Consent provided  \n",
       "3              Consent not provided  \n",
       "4                               N/A  "
      ]
     },
     "execution_count": 10,
     "metadata": {},
     "output_type": "execute_result"
    }
   ],
   "source": [
    "df.iloc[:,20:].head()"
   ]
  },
  {
   "cell_type": "code",
   "execution_count": 11,
   "metadata": {
    "id": "FYCtKXD1JrFw"
   },
   "outputs": [],
   "source": [
    "#Assign new column names\n",
    "df1 = df.rename(columns = {'_index': 'index', '_type': 'ticket_type', '_id': 'id', \n",
    "                '_score': 'score', '_source.tags': 'tags', '_source.zip_code': 'zip_code',\n",
    "                '_source.complaint_id': 'complaint_id', '_source.issue': 'issue', '_source.date_received': 'complaint_date',\n",
    "                '_source.state': 'state', '_source.consumer_disputed': 'is_consumer_disputed', '_source.product': 'product',\n",
    "                '_source.company_response': 'company_response', '_source.company': 'company', \n",
    "                '_source.submitted_via': 'submitted_via', '_source.date_sent_to_company': 'date_sent_to_company',\n",
    "                '_source.company_public_response': '_source.company_public_response', '_source.sub_product': 'sub_product',\n",
    "                '_source.timely': 'timely', '_source.complaint_what_happened': 'complaint_description', \n",
    "                '_source.sub_issue': 'sub_issue', '_source.consumer_consent_provided': 'is_consumer_consent_provided'\n",
    "                })"
   ]
  },
  {
   "cell_type": "code",
   "execution_count": 12,
   "metadata": {},
   "outputs": [
    {
     "data": {
      "text/plain": [
       "Index(['index', 'ticket_type', 'id', 'score', 'tags', 'zip_code',\n",
       "       'complaint_id', 'issue', 'complaint_date', 'state',\n",
       "       'is_consumer_disputed', 'product', 'company_response', 'company',\n",
       "       'submitted_via', 'date_sent_to_company',\n",
       "       '_source.company_public_response', 'sub_product', 'timely',\n",
       "       'complaint_description', 'sub_issue', 'is_consumer_consent_provided'],\n",
       "      dtype='object')"
      ]
     },
     "execution_count": 12,
     "metadata": {},
     "output_type": "execute_result"
    }
   ],
   "source": [
    "df1.columns"
   ]
  },
  {
   "cell_type": "code",
   "execution_count": 13,
   "metadata": {
    "id": "grQUPFL5JrFx"
   },
   "outputs": [],
   "source": [
    "#Assign nan in place of blanks in the complaints column\n",
    "df1['complaint_description'] = df1['complaint_description'].replace('', np.nan)\n"
   ]
  },
  {
   "cell_type": "code",
   "execution_count": 14,
   "metadata": {},
   "outputs": [
    {
     "data": {
      "text/plain": [
       "57241"
      ]
     },
     "execution_count": 14,
     "metadata": {},
     "output_type": "execute_result"
    }
   ],
   "source": [
    "df1['complaint_description'].isna().sum()"
   ]
  },
  {
   "cell_type": "code",
   "execution_count": 15,
   "metadata": {
    "id": "Jfxd8VSmJrFy"
   },
   "outputs": [],
   "source": [
    "#Remove all rows where complaints column is nan\n",
    "df2 = df1.dropna(subset=['complaint_description'])"
   ]
  },
  {
   "cell_type": "code",
   "execution_count": 16,
   "metadata": {},
   "outputs": [
    {
     "data": {
      "text/plain": [
       "0"
      ]
     },
     "execution_count": 16,
     "metadata": {},
     "output_type": "execute_result"
    }
   ],
   "source": [
    "df2['complaint_description'].isna().sum()"
   ]
  },
  {
   "cell_type": "markdown",
   "metadata": {
    "id": "L944HZpsJrFy"
   },
   "source": [
    "## Prepare the text for topic modeling\n",
    "\n",
    "Once you have removed all the blank complaints, you need to:\n",
    "\n",
    "* Make the text lowercase\n",
    "* Remove text in square brackets\n",
    "* Remove punctuation\n",
    "* Remove words containing numbers\n",
    "\n",
    "\n",
    "Once you have done these cleaning operations you need to perform the following:\n",
    "* Lemmatize the texts\n",
    "* Extract the POS tags of the lemmatized text and remove all the words which have tags other than NN[tag == \"NN\"].\n"
   ]
  },
  {
   "cell_type": "code",
   "execution_count": 17,
   "metadata": {
    "id": "qm7SjjSkJrFz"
   },
   "outputs": [],
   "source": [
    "# Write your function here to clean the text and remove all the unnecessary elements.\n",
    "def clean_text(text):\n",
    "    text = re.sub(r'\\d+', '', text)  # remove numbers\n",
    "    text = re.sub(r'\\s+', ' ', text)  # remove extra spaces\n",
    "    text = text.strip()  # remove leading and trailing spaces\n",
    "    text = text.lower()  # convert to lowercase\n",
    "    text = re.sub(r'[^\\w\\s]', '', text)  # remove punctuation\n",
    "    text = re.sub(r'\\b\\w{1,2}\\b', '', text)  # remove words with 1 or 2 characters\n",
    "    return text"
   ]
  },
  {
   "cell_type": "code",
   "execution_count": 18,
   "metadata": {},
   "outputs": [
    {
     "name": "stderr",
     "output_type": "stream",
     "text": [
      "/var/folders/yd/nd90kgx9607bb_l11wjrdqkh0000gn/T/ipykernel_1137/2031822897.py:1: SettingWithCopyWarning: \n",
      "A value is trying to be set on a copy of a slice from a DataFrame.\n",
      "Try using .loc[row_indexer,col_indexer] = value instead\n",
      "\n",
      "See the caveats in the documentation: https://pandas.pydata.org/pandas-docs/stable/user_guide/indexing.html#returning-a-view-versus-a-copy\n",
      "  df2['complaint_description'] = df2['complaint_description'].apply(clean_text)\n"
     ]
    }
   ],
   "source": [
    "df2['complaint_description'] = df2['complaint_description'].apply(clean_text)"
   ]
  },
  {
   "cell_type": "code",
   "execution_count": 19,
   "metadata": {
    "id": "zgOu8t8HJrFz"
   },
   "outputs": [],
   "source": [
    "#Write your function to Lemmatize the texts\n",
    "def lemmatize_text(text):\n",
    "    doc = nlp(text)\n",
    "    lemmatized_text = ' '.join([token.lemma_ for token in doc])\n",
    "    return lemmatized_text"
   ]
  },
  {
   "cell_type": "code",
   "execution_count": 20,
   "metadata": {},
   "outputs": [
    {
     "name": "stderr",
     "output_type": "stream",
     "text": [
      "/var/folders/yd/nd90kgx9607bb_l11wjrdqkh0000gn/T/ipykernel_1137/826681342.py:2: SettingWithCopyWarning: \n",
      "A value is trying to be set on a copy of a slice from a DataFrame.\n",
      "Try using .loc[row_indexer,col_indexer] = value instead\n",
      "\n",
      "See the caveats in the documentation: https://pandas.pydata.org/pandas-docs/stable/user_guide/indexing.html#returning-a-view-versus-a-copy\n",
      "  df2['complaints_lemmatized'] = list(nlp.pipe(df2['complaint_description'].dropna()))\n",
      "/var/folders/yd/nd90kgx9607bb_l11wjrdqkh0000gn/T/ipykernel_1137/826681342.py:3: SettingWithCopyWarning: \n",
      "A value is trying to be set on a copy of a slice from a DataFrame.\n",
      "Try using .loc[row_indexer,col_indexer] = value instead\n",
      "\n",
      "See the caveats in the documentation: https://pandas.pydata.org/pandas-docs/stable/user_guide/indexing.html#returning-a-view-versus-a-copy\n",
      "  df2['complaints_lemmatized'] = df2['complaints_lemmatized'].apply(lambda doc: ' '.join([token.lemma_ for token in doc]))\n"
     ]
    }
   ],
   "source": [
    "# Use nlp.pipe for batch processing\n",
    "df2['complaints_lemmatized'] = list(nlp.pipe(df2['complaint_description'].dropna()))\n",
    "df2['complaints_lemmatized'] = df2['complaints_lemmatized'].apply(lambda doc: ' '.join([token.lemma_ for token in doc]))"
   ]
  },
  {
   "cell_type": "code",
   "execution_count": 21,
   "metadata": {
    "id": "uXnN7aa_JrF0"
   },
   "outputs": [],
   "source": [
    "#Create a dataframe('df_clean') that will have only the complaints and the lemmatized complaints \n",
    "df_clean = df2[[\"complaint_description\", \"complaints_lemmatized\"]]"
   ]
  },
  {
   "cell_type": "code",
   "execution_count": 22,
   "metadata": {
    "id": "nOiDVvEIJrF0"
   },
   "outputs": [
    {
     "data": {
      "text/html": [
       "<div>\n",
       "<style scoped>\n",
       "    .dataframe tbody tr th:only-of-type {\n",
       "        vertical-align: middle;\n",
       "    }\n",
       "\n",
       "    .dataframe tbody tr th {\n",
       "        vertical-align: top;\n",
       "    }\n",
       "\n",
       "    .dataframe thead th {\n",
       "        text-align: right;\n",
       "    }\n",
       "</style>\n",
       "<table border=\"1\" class=\"dataframe\">\n",
       "  <thead>\n",
       "    <tr style=\"text-align: right;\">\n",
       "      <th></th>\n",
       "      <th>complaint_description</th>\n",
       "      <th>complaints_lemmatized</th>\n",
       "    </tr>\n",
       "  </thead>\n",
       "  <tbody>\n",
       "    <tr>\n",
       "      <th>1</th>\n",
       "      <td>good morning  name  xxxx xxxx and  appreciate ...</td>\n",
       "      <td>good morning   name   xxxx xxxx and   apprecia...</td>\n",
       "    </tr>\n",
       "    <tr>\n",
       "      <th>2</th>\n",
       "      <td>upgraded  xxxx xxxx card  xxxx and was told  ...</td>\n",
       "      <td>upgrade   xxxx xxxx card   xxxx and be tell ...</td>\n",
       "    </tr>\n",
       "    <tr>\n",
       "      <th>10</th>\n",
       "      <td>chase card was reported  xxxx however fraudule...</td>\n",
       "      <td>chase card be report   xxxx however fraudulent...</td>\n",
       "    </tr>\n",
       "    <tr>\n",
       "      <th>11</th>\n",
       "      <td>xxxx while trying  book  xxxx xxxx ticket  ca...</td>\n",
       "      <td>xxxx while try   book   xxxx xxxx ticket   c...</td>\n",
       "    </tr>\n",
       "    <tr>\n",
       "      <th>14</th>\n",
       "      <td>grand son give  check for   deposit  into  ch...</td>\n",
       "      <td>grand son give   check for    deposit   into...</td>\n",
       "    </tr>\n",
       "  </tbody>\n",
       "</table>\n",
       "</div>"
      ],
      "text/plain": [
       "                                complaint_description  \\\n",
       "1   good morning  name  xxxx xxxx and  appreciate ...   \n",
       "2    upgraded  xxxx xxxx card  xxxx and was told  ...   \n",
       "10  chase card was reported  xxxx however fraudule...   \n",
       "11   xxxx while trying  book  xxxx xxxx ticket  ca...   \n",
       "14   grand son give  check for   deposit  into  ch...   \n",
       "\n",
       "                                complaints_lemmatized  \n",
       "1   good morning   name   xxxx xxxx and   apprecia...  \n",
       "2     upgrade   xxxx xxxx card   xxxx and be tell ...  \n",
       "10  chase card be report   xxxx however fraudulent...  \n",
       "11    xxxx while try   book   xxxx xxxx ticket   c...  \n",
       "14    grand son give   check for    deposit   into...  "
      ]
     },
     "execution_count": 22,
     "metadata": {},
     "output_type": "execute_result"
    }
   ],
   "source": [
    "df_clean.head()"
   ]
  },
  {
   "cell_type": "code",
   "execution_count": 24,
   "metadata": {
    "id": "Kk7fc4DuJrF1"
   },
   "outputs": [
    {
     "name": "stderr",
     "output_type": "stream",
     "text": [
      "/var/folders/yd/nd90kgx9607bb_l11wjrdqkh0000gn/T/ipykernel_1137/2662783195.py:9: SettingWithCopyWarning: \n",
      "A value is trying to be set on a copy of a slice from a DataFrame.\n",
      "Try using .loc[row_indexer,col_indexer] = value instead\n",
      "\n",
      "See the caveats in the documentation: https://pandas.pydata.org/pandas-docs/stable/user_guide/indexing.html#returning-a-view-versus-a-copy\n",
      "  df_clean['complaint_POS'] = df_clean['complaints_lemmatized'].apply(pos_tag)\n"
     ]
    }
   ],
   "source": [
    "#Write your function to extract the POS tags \n",
    "\n",
    "def pos_tag(text):\n",
    "  # write your code here\n",
    "  doc = nlp(text)\n",
    "  pos_tags = [(token.text, token.pos_) for token in doc]\n",
    "  return pos_tags\n",
    "\n",
    "df_clean['complaint_POS'] = df_clean['complaints_lemmatized'].apply(pos_tag)\n"
   ]
  },
  {
   "cell_type": "code",
   "execution_count": 25,
   "metadata": {},
   "outputs": [
    {
     "data": {
      "text/plain": [
       "complaint_POS\n",
       "[(chase, NOUN), (have, AUX), (violate, VERB), (usc, NOUN), (  , SPACE), (continue, VERB), (collection, NOUN), (activity, NOUN), (after, ADP), (  , SPACE), (cease, VERB), (and, CCONJ), (desist, VERB), (and, CCONJ), (usc, ADJ), (  , SPACE), (fail, ADJ), (  , SPACE), (report, NOUN), (complete, ADJ), (and, CCONJ), (accurate, ADJ), (information, NOUN), (  , SPACE), (credit, NOUN), (reporting, NOUN), (bureau, NOUN)]                                                                                                                                                                                                                                                                                                                                                                                                                                                                                                                                                                                                                                                                                                                                                                                                                                                                                                                                                                                                                                                                                                                                11\n",
       "[(    , SPACE), (victim, NOUN), (  , SPACE), (identity, NOUN), (theft, NOUN), (due, ADJ), (  , SPACE), (the, DET), (corona, PROPN), (virus, PROPN), (pandemic, PROPN), (  , SPACE), (be, AUX), (all, DET), (face, NOUN), (which, PRON), (have, AUX), (  , SPACE), (sit, VERB), (still, ADV), (  , SPACE), (home, ADV), (and, CCONJ), (  , SPACE), (see, VERB), (the, DET), (recent, ADJ), (news, NOUN), (about, ADP), (the, DET), (multiple, ADJ), (xxxx, PROPN), (datum, PROPN), (breach, NOUN), (  , SPACE), (decide, VERB), (  , SPACE), (look, VERB), (   , SPACE), (credit, NOUN), (report, NOUN), (from, ADP), (the, DET), (major, ADJ), (credit, NOUN), (bureaus, NOUN), (and, CCONJ), (find, VERB), (that, SCONJ), (someone, PRON), (have, AUX), (use, VERB), (  , SPACE), (identity, NOUN), (  , SPACE), (have, VERB), (  , SPACE), (idea, NOUN), (how, SCONJ), (the, DET), (theft, NOUN), (take, VERB), (place, NOUN), (  , SPACE), (also, ADV), (have, VERB), (  , SPACE), (knowledge, NOUN), (  , SPACE), (any, DET), (suspect, NOUN), (  , SPACE), (do, AUX), (not, PART), (receive, VERB), (any, DET), (money, NOUN), (good, ADJ), (  , SPACE), (service, NOUN), (   , SPACE), (result, VERB), (  , SPACE), (identity, NOUN), (theft, NOUN), (  , SPACE), (contact, VERB), (the, DET), (credit, NOUN), (bureau, NOUN), (and, CCONJ), (tell, VERB), (   , SPACE), (file, NOUN), (  , SPACE), (identity, NOUN), (theft, NOUN), (report, NOUN), (which, PRON), (   , SPACE), ...]                                                                  9\n",
       "[(  , SPACE), (xxxx, PROPN), (  , SPACE), (bill, NOUN), (do, AUX), (not, PART), (  , SPACE), (through, ADP), (when, SCONJ), (  , SPACE), (be, AUX), (  , SPACE), (autobill, NOUN), (  , SPACE), (reach, VERB), (out, ADP), (  , SPACE), (the, DET), (company, NOUN), (and, CCONJ), (they, PRON), (say, VERB), (that, SCONJ), (they, PRON), (see, VERB), (the, DET), (payment, NOUN), (try, AUX), (  , SPACE), (come, VERB), (out, ADP), (  , SPACE), (the, DET), (bank, NOUN), (but, CCONJ), (  , SPACE), (be, AUX), (reject, VERB), (they, PRON), (never, ADV), (notify, VERB), (   , SPACE), (the, DET), (rejection, NOUN), (and, CCONJ), (give, VERB), (  , SPACE), (this, DET), (late, ADJ), (payment, NOUN), (  , SPACE), (now, ADV), (can, AUX), (not, PART), (get, VERB), (  , SPACE), (mortgage, NOUN), (because, SCONJ), (  , SPACE), (this, DET), (mark, NOUN), (   , SPACE), (credit, NOUN), (and, CCONJ), (the, DET), (company, NOUN), (will, AUX), (not, PART), (help, VERB), (  , SPACE), (with, ADP), (this, DET), (unfair, ADJ), (situation, NOUN)]                                                                                                                                                                                                                                                                                                                                                                                                                                                                                           9\n",
       "[(hello, INTJ), (  , SPACE), (be, AUX), (  , SPACE), (authorize, VERB), (user, NOUN), (   , SPACE), (relative, ADJ), (chase, NOUN), (credit, NOUN), (card, NOUN), (and, CCONJ), (have, AUX), (ask, VERB), (   , SPACE), (permanently, ADV), (remove, VERB), (from, ADP), (  , SPACE), (credit, NOUN), (report, NOUN), (which, PRON), (they, PRON), (agree, VERB), (and, CCONJ), (also, ADV), (have, VERB), (that, DET), (address, NOUN), (remove, NOUN), (from, ADP), (  , SPACE), (report, NOUN), (     , SPACE), (long, ADJ), (stay, VERB), (there, ADV), (for, ADP), (some, DET), (reason, NOUN), (   , SPACE), (still, ADV), (show, VERB), (  , SPACE), (just, ADV), (look, AUX), (  , SPACE), (have, VERB), (this, PRON), (correct, ADJ), (and, CCONJ), (move, VERB), (from, ADP), (all, DET), (credit, NOUN), (reporting, NOUN), (company, NOUN), (   , SPACE), (promise, NOUN)]                                                                                                                                                                                                                                                                                                                                                                                                                                                                                                                                                                                                                                                                        9\n",
       "[(this, DET), (particular, ADJ), (account, NOUN), (situation, NOUN), (that, SCONJ), (  , SPACE), (lately, ADV), (file, VERB), (   , SPACE), (own, ADJ), (credit, NOUN), (document, NOUN), (have, AUX), (  , SPACE), (seriously, ADV), (unfavorable, ADJ), (relation, NOUN), (   , SPACE), (personal, ADJ), (ability, NOUN), (  , SPACE), (obtain, VERB), (  , SPACE), (present, ADJ), (loan, NOUN), (application, NOUN), (  , SPACE), (highly, ADV), (recommend, VERB), (you, PRON), (generate, VERB), (verification, NOUN), (that, SCONJ), (credit, NOUN), (union, NOUN), (have, AUX), (be, AUX), (report, VERB), (completely, ADV), (  , SPACE), (accordance, NOUN), (with, ADP), (the, DET), (fair, ADJ), (credit, NOUN), (reporting, NOUN), (act, NOUN), (regulation, NOUN), (its, PRON), (really, ADV), (  , SPACE), (serious, ADJ), (problem, NOUN), (  , SPACE), (misreport, NOUN), (more, ADJ), (confirmation, NOUN), (  , SPACE), (the, DET), (aforesaid, ADJ), (item, NOUN), (too, ADV), (  , SPACE), (proper, ADJ), (request, NOUN), (must, AUX), (over, ADV), (  , SPACE), (be, AUX), (never, ADV), (day, NOUN), (day, NOUN), (day, NOUN), (late, ADV), (  , SPACE), (any, DET), (   , SPACE), (payment, NOUN), (and, CCONJ), (  , SPACE), (not, PART), (greatly, ADV), (tune, VERB), (   , SPACE), (the, DET), (date, NOUN), (open, ADJ), (   , SPACE), (prefer, VERB), (  , SPACE), (ask, VERB), (you, PRON), (  , SPACE), (investigate, VERB), (  , SPACE), (soon, ADV), (  , SPACE), (possible, ADJ), (and, CCONJ), (confirm, VERB), ...]     7\n",
       "                                                                                                                                                                                                                                                                                                                                                                                                                                                                                                                                                                                                                                                                                                                                                                                                                                                                                                                                                                                                                                                                                                                                                                                                                                                                                                                                                                                                                                                                                                                                                             ..\n",
       "[(none, NOUN), (  , SPACE), (these, DET), (fraudulent, ADJ), (account, NOUN), (be, AUX), (relate, VERB), (  , SPACE), (any, DET), (   , SPACE), (legit, NOUN), (transaction, NOUN), (recently, ADV), (  , SPACE), (be, AUX), (check, VERB), (  , SPACE), (credit, NOUN), (and, CCONJ), (  , SPACE), (find, VERB), (these, DET), (account, NOUN), (that, PRON), (do, AUX), (not, PART), (belong, VERB), (   , SPACE), (these, DET), (account, NOUN), (be, VERB), (the, DET), (result, NOUN), (  , SPACE), (identity, NOUN), (theft, NOUN), (  , SPACE), (do, AUX), (not, PART), (know, VERB), (who, PRON), (the, DET), (perpetrator, NOUN), (  , SPACE), (and, CCONJ), (  , SPACE), (need, VERB), (these, DET), (fraud, NOUN), (account, NOUN), (remove, VERB), (  , SPACE), (soon, ADV), (  , SPACE), (possible, ADJ), (  , SPACE), (personal, ADJ), (information, NOUN), (be, VERB), (  , SPACE), (part, NOUN), (  , SPACE), (the, DET), (xxxx, PROPN), (data, PROPN), (breach, NOUN), (  , SPACE), (xxxx, PROPN), (and, CCONJ), (  , SPACE), (assume, VERB), (that, SCONJ), (  , SPACE), (when, SCONJ), (  , SPACE), (identity, NOUN), (be, AUX), (steal, VERB), (these, PRON), (be, AUX), (the, DET), (fraudulent, ADJ), (account, NOUN), (  , SPACE), (jpmcb, PROPN), (card, NOUN), (that, PRON), (open, VERB), (last, ADJ), (xxxxxxxx, NOUN), (xxxx, PROPN), (xxxx, PROPN), (that, PRON), (open, VERB), (last, ADJ), (xxxxxxxx, NOUN), (and, CCONJ), (xxxx, PROPN), (xxxx, PROPN), (xxxx, PROPN), ...]                                                   1\n",
       "[(xxxx, PROPN), (xxxx, PROPN), (have, AUX), (not, PART), (send, VERB), (accurate, ADJ), (verifiable, ADJ), (documentation, NOUN), (that, PRON), (  , SPACE), (owe, VERB), (any, DET), (debt, NOUN), (bear, NOUN), (  , SPACE), (signature, NOUN), (  , SPACE), (send, VERB), (  , SPACE), (letter, NOUN), (  , SPACE), (xxxx, ADV), (ask, VERB), (  , SPACE), (validate, NOUN), (and, CCONJ), (this, DET), (company, NOUN), (have, AUX), (not, PART), (do, VERB), (  , SPACE), (properly, ADV)]                                                                                                                                                                                                                                                                                                                                                                                                                                                                                                                                                                                                                                                                                                                                                                                                                                                                                                                                                                                                                                                               1\n",
       "[(  , SPACE), (open, ADJ), (  , SPACE), (account, NOUN), (with, ADP), (  , SPACE), (morgan, PROPN), (chase, PROPN), (bank, PROPN), (  , SPACE), (xxxxxxxx, PROPN), (and, CCONJ), (deposit, NOUN), (  , SPACE), (loan, NOUN), (from, ADP), (xxxx, PROPN), (xxxx, PROPN), (xxxx, PROPN), (  , SPACE), (be, AUX), (  , SPACE), (help, VERB), (  , SPACE), (child, NOUN), (  , SPACE), (college, NOUN), (pay, NOUN), (for, ADP), (food, NOUN), (while, SCONJ), (they, PRON), (be, VERB), (  , SPACE), (school, NOUN), (and, CCONJ), (  , SPACE), (help, VERB), (with, ADP), (some, DET), (medical, ADJ), (bill, NOUN), (once, ADV), (chase, PROPN), (bank, NOUN), (verify, VERB), (with, ADP), (xxxx, PROPN), (xxxx, PROPN), (the, DET), (money, NOUN), (be, AUX), (deposit, NOUN), (  , SPACE), (xxxxxxxx, NOUN), (  , SPACE), (be, AUX), (tell, VERB), (  , SPACE), (would, AUX), (receive, VERB), (  , SPACE), (bank, NOUN), (debit, NOUN), (card, NOUN), (  , SPACE), (the, DET), (mail, NOUN), (   , SPACE), (day, NOUN), (the, DET), (card, NOUN), (never, ADV), (arrive, VERB), (until, ADP), (week, NOUN), (later, ADV), (  , SPACE), (have, AUX), (  , SPACE), (send, VERB), (  , SPACE), (kid, ADJ), (money, NOUN), (for, ADP), (food, NOUN), (and, CCONJ), (pay, VERB), (rent, NOUN), (for, ADP), (  , SPACE), (daughter, NOUN), (  , SPACE), (college, NOUN), (the, DET), (bank, NOUN), (offer, VERB), (two, NUM), (money, NOUN), (send, VERB), ...]                                                                                                  1\n",
       "[(  , SPACE), (be, AUX), (chase, NOUN), (bank, NOUN), (customer, NOUN), (  , SPACE), (xxxx, PROPN), (between, ADP), (xxxxxxxx, PROPN), (xxxx, PROPN), (  , SPACE), (attempt, NOUN), (  , SPACE), (withdraw, VERB), (  , SPACE), (from, ADP), (the, DET), (atm, NOUN), (locate, PROPN), (  , SPACE), (the, DET), (chase, PROPN), (bank, PROPN), (branch, NOUN), (locate, PROPN), (  , SPACE), (xxxx, PROPN), (xxxx, PROPN), (xxxx, PROPN), (xxxx, PROPN), (xxxx, PROPN), (xxxx, PROPN), (  , SPACE), (xxxx, PROPN), (  , SPACE), (washington, PROPN), (  , SPACE), (after, SCONJ), (the, DET), (receipt, NOUN), (prompt, VERB), (the, DET), (atm, NOUN), (screen, NOUN), (abruptly, ADV), (change, NOUN), (  , SPACE), (do, AUX), (not, PART), (receive, VERB), (  , SPACE), (receipt, NOUN), (    , SPACE), (not, PART), (remember, VERB), (what, PRON), (the, DET), (following, ADJ), (screen, NOUN), (state, NOUN), (  , SPACE), (the, DET), (cash, NOUN), (dispense, NOUN), (panel, NOUN), (do, AUX), (not, PART), (open, VERB), (nor, CCONJ), (do, VERB), (the, DET), (atm, NOUN), (dispense, VERB), (any, DET), (cash, NOUN), (  , SPACE), (remove, VERB), (  , SPACE), (debit, NOUN), (card, NOUN), (from, ADP), (the, DET), (atm, NOUN), (and, CCONJ), (walk, VERB), (  , SPACE), (the, DET), (counter, NOUN), (and, CCONJ), (tell, VERB), (  , SPACE), (teller, NOUN), (that, SCONJ), (the, DET), (atm, NOUN), (do, AUX), (not, PART), (dispense, VERB), (cash, NOUN), (during, ADP), ...]                                                            1\n",
       "[(roughly, ADV), (  , SPACE), (year, NOUN), (ago, ADV), (  , SPACE), (close, VERB), (out, ADP), (  , SPACE), (account, NOUN), (with, ADP), (  , SPACE), (morgan, PROPN), (chase, PROPN), (bank, PROPN), (xxxx, PROPN), (  , SPACE), (order, NOUN), (  , SPACE), (close, VERB), (out, ADP), (  , SPACE), (unsecured, ADJ), (line, NOUN), (  , SPACE), (credit, NOUN), (  , SPACE), (have, AUX), (  , SPACE), (pay, VERB), (  , SPACE), (off, ADP), (  , SPACE), (do, AUX), (that, PRON), (  , SPACE), (close, VERB), (out, ADP), (  , SPACE), (account, VERB), (roughly, ADV), (  , SPACE), (payment, NOUN), (when, SCONJ), (  , SPACE), (close, VERB), (out, ADP), (the, DET), (account, NOUN), (and, CCONJ), (now, ADV), (  , SPACE), (get, VERB), (this, DET), (late, ADJ), (payment, NOUN), (that, PRON), (show, VERB), (    , SPACE), (credit, NOUN), (report, NOUN), (after, ADP), (  , SPACE), (year, NOUN), (state, NOUN), (  , SPACE), (owe, VERB), (close, ADJ), (   , SPACE), (dollar, NOUN), (  , SPACE), (have, AUX), (never, ADV), (have, VERB), (any, DET), (payment, NOUN), (schedule, NOUN), (  , SPACE), (notification, NOUN), (  , SPACE), (the, DET), (  , SPACE), (year, NOUN), (because, SCONJ), (  , SPACE), (pay, VERB), (  , SPACE), (off, ADP), (upon, SCONJ), (call, NOUN), (they, PRON), (   , SPACE), (tell, VERB), (  , SPACE), (need, AUX), (  , SPACE), (show, VERB), (proof, NOUN), (  , SPACE), (pay, VERB), (  , SPACE), ...]                                                                                               1\n",
       "Name: count, Length: 20872, dtype: int64"
      ]
     },
     "execution_count": 25,
     "metadata": {},
     "output_type": "execute_result"
    }
   ],
   "source": [
    "df_clean['complaint_POS'].value_counts()"
   ]
  },
  {
   "cell_type": "code",
   "execution_count": 26,
   "metadata": {},
   "outputs": [
    {
     "name": "stderr",
     "output_type": "stream",
     "text": [
      "/var/folders/yd/nd90kgx9607bb_l11wjrdqkh0000gn/T/ipykernel_1137/2991147.py:2: SettingWithCopyWarning: \n",
      "A value is trying to be set on a copy of a slice from a DataFrame.\n",
      "Try using .loc[row_indexer,col_indexer] = value instead\n",
      "\n",
      "See the caveats in the documentation: https://pandas.pydata.org/pandas-docs/stable/user_guide/indexing.html#returning-a-view-versus-a-copy\n",
      "  df_clean[\"complaint_POS_removed\"] = df_clean['complaints_lemmatized'].apply(\n"
     ]
    }
   ],
   "source": [
    "# df_clean[\"complaint_POS_removed\"] =  df_clean[df_clean['complaint_POS']] #this column should contain lemmatized text with all the words removed which have tags other than NN[tag == \"NN\"].\n",
    "df_clean[\"complaint_POS_removed\"] = df_clean['complaints_lemmatized'].apply(\n",
    "    lambda x: ' '.join([word for word, tag in pos_tag(x) if tag == \"NOUN\"])\n",
    ")"
   ]
  },
  {
   "cell_type": "code",
   "execution_count": 27,
   "metadata": {},
   "outputs": [
    {
     "name": "stderr",
     "output_type": "stream",
     "text": [
      "/var/folders/yd/nd90kgx9607bb_l11wjrdqkh0000gn/T/ipykernel_1137/1215020420.py:1: SettingWithCopyWarning: \n",
      "A value is trying to be set on a copy of a slice from a DataFrame\n",
      "\n",
      "See the caveats in the documentation: https://pandas.pydata.org/pandas-docs/stable/user_guide/indexing.html#returning-a-view-versus-a-copy\n",
      "  df_clean.drop(columns=['complaint_POS'], inplace=True)\n"
     ]
    }
   ],
   "source": [
    "df_clean.drop(columns=['complaint_POS'], inplace=True)"
   ]
  },
  {
   "cell_type": "code",
   "execution_count": 28,
   "metadata": {
    "id": "AjxfchvFJrF2"
   },
   "outputs": [
    {
     "data": {
      "text/html": [
       "<div>\n",
       "<style scoped>\n",
       "    .dataframe tbody tr th:only-of-type {\n",
       "        vertical-align: middle;\n",
       "    }\n",
       "\n",
       "    .dataframe tbody tr th {\n",
       "        vertical-align: top;\n",
       "    }\n",
       "\n",
       "    .dataframe thead th {\n",
       "        text-align: right;\n",
       "    }\n",
       "</style>\n",
       "<table border=\"1\" class=\"dataframe\">\n",
       "  <thead>\n",
       "    <tr style=\"text-align: right;\">\n",
       "      <th></th>\n",
       "      <th>complaint_description</th>\n",
       "      <th>complaints_lemmatized</th>\n",
       "      <th>complaint_POS_removed</th>\n",
       "    </tr>\n",
       "  </thead>\n",
       "  <tbody>\n",
       "    <tr>\n",
       "      <th>1</th>\n",
       "      <td>good morning  name  xxxx xxxx and  appreciate ...</td>\n",
       "      <td>good morning   name   xxxx xxxx and   apprecia...</td>\n",
       "      <td>morning name chase ask debt verification state...</td>\n",
       "    </tr>\n",
       "    <tr>\n",
       "      <th>2</th>\n",
       "      <td>upgraded  xxxx xxxx card  xxxx and was told  ...</td>\n",
       "      <td>upgrade   xxxx xxxx card   xxxx and be tell ...</td>\n",
       "      <td>card agent upgrade anniversary date agent info...</td>\n",
       "    </tr>\n",
       "    <tr>\n",
       "      <th>10</th>\n",
       "      <td>chase card was reported  xxxx however fraudule...</td>\n",
       "      <td>chase card be report   xxxx however fraudulent...</td>\n",
       "      <td>chase card report application identity consent...</td>\n",
       "    </tr>\n",
       "    <tr>\n",
       "      <th>11</th>\n",
       "      <td>xxxx while trying  book  xxxx xxxx ticket  ca...</td>\n",
       "      <td>xxxx while try   book   xxxx xxxx ticket   c...</td>\n",
       "      <td>book ticket offer ticket reward card informati...</td>\n",
       "    </tr>\n",
       "    <tr>\n",
       "      <th>14</th>\n",
       "      <td>grand son give  check for   deposit  into  ch...</td>\n",
       "      <td>grand son give   check for    deposit   into...</td>\n",
       "      <td>son check deposit chase account fund account m...</td>\n",
       "    </tr>\n",
       "    <tr>\n",
       "      <th>...</th>\n",
       "      <td>...</td>\n",
       "      <td>...</td>\n",
       "      <td>...</td>\n",
       "    </tr>\n",
       "    <tr>\n",
       "      <th>78303</th>\n",
       "      <td>after being  chase card customer for well over...</td>\n",
       "      <td>after be   chase card customer for well over  ...</td>\n",
       "      <td>chase card customer decade solicitation credit...</td>\n",
       "    </tr>\n",
       "    <tr>\n",
       "      <th>78309</th>\n",
       "      <td>wednesday xxxxxxxx  called chas  xxxx xxxx vi...</td>\n",
       "      <td>wednesday xxxxxxxx   call chas   xxxx xxxx v...</td>\n",
       "      <td>credit card provider claim purchase protection...</td>\n",
       "    </tr>\n",
       "    <tr>\n",
       "      <th>78310</th>\n",
       "      <td>not familiar with xxxx pay and did not under...</td>\n",
       "      <td>not familiar with xxxx pay and do not under...</td>\n",
       "      <td>pay risk consumer chase year banking deal merc...</td>\n",
       "    </tr>\n",
       "    <tr>\n",
       "      <th>78311</th>\n",
       "      <td>have had flawless credit for yrs ive had chas...</td>\n",
       "      <td>have have flawless credit for yrs I ve have ...</td>\n",
       "      <td>credit yrs chase credit card chase freedom pro...</td>\n",
       "    </tr>\n",
       "    <tr>\n",
       "      <th>78312</th>\n",
       "      <td>roughly  years ago  closed out  accounts with ...</td>\n",
       "      <td>roughly   year ago   close out   account with ...</td>\n",
       "      <td>year account order line credit payment account...</td>\n",
       "    </tr>\n",
       "  </tbody>\n",
       "</table>\n",
       "<p>21072 rows × 3 columns</p>\n",
       "</div>"
      ],
      "text/plain": [
       "                                   complaint_description  \\\n",
       "1      good morning  name  xxxx xxxx and  appreciate ...   \n",
       "2       upgraded  xxxx xxxx card  xxxx and was told  ...   \n",
       "10     chase card was reported  xxxx however fraudule...   \n",
       "11      xxxx while trying  book  xxxx xxxx ticket  ca...   \n",
       "14      grand son give  check for   deposit  into  ch...   \n",
       "...                                                  ...   \n",
       "78303  after being  chase card customer for well over...   \n",
       "78309   wednesday xxxxxxxx  called chas  xxxx xxxx vi...   \n",
       "78310    not familiar with xxxx pay and did not under...   \n",
       "78311   have had flawless credit for yrs ive had chas...   \n",
       "78312  roughly  years ago  closed out  accounts with ...   \n",
       "\n",
       "                                   complaints_lemmatized  \\\n",
       "1      good morning   name   xxxx xxxx and   apprecia...   \n",
       "2        upgrade   xxxx xxxx card   xxxx and be tell ...   \n",
       "10     chase card be report   xxxx however fraudulent...   \n",
       "11       xxxx while try   book   xxxx xxxx ticket   c...   \n",
       "14       grand son give   check for    deposit   into...   \n",
       "...                                                  ...   \n",
       "78303  after be   chase card customer for well over  ...   \n",
       "78309    wednesday xxxxxxxx   call chas   xxxx xxxx v...   \n",
       "78310     not familiar with xxxx pay and do not under...   \n",
       "78311    have have flawless credit for yrs I ve have ...   \n",
       "78312  roughly   year ago   close out   account with ...   \n",
       "\n",
       "                                   complaint_POS_removed  \n",
       "1      morning name chase ask debt verification state...  \n",
       "2      card agent upgrade anniversary date agent info...  \n",
       "10     chase card report application identity consent...  \n",
       "11     book ticket offer ticket reward card informati...  \n",
       "14     son check deposit chase account fund account m...  \n",
       "...                                                  ...  \n",
       "78303  chase card customer decade solicitation credit...  \n",
       "78309  credit card provider claim purchase protection...  \n",
       "78310  pay risk consumer chase year banking deal merc...  \n",
       "78311  credit yrs chase credit card chase freedom pro...  \n",
       "78312  year account order line credit payment account...  \n",
       "\n",
       "[21072 rows x 3 columns]"
      ]
     },
     "execution_count": 28,
     "metadata": {},
     "output_type": "execute_result"
    }
   ],
   "source": [
    "#The clean dataframe should now contain the raw complaint, lemmatized complaint and the complaint after removing POS tags.\n",
    "df_clean"
   ]
  },
  {
   "cell_type": "markdown",
   "metadata": {
    "id": "_7Un1AElJrF2"
   },
   "source": [
    "## Exploratory data analysis to get familiar with the data.\n",
    "\n",
    "Write the code in this task to perform the following:\n",
    "\n",
    "*   Visualise the data according to the 'Complaint' character length\n",
    "*   Using a word cloud find the top 40 words by frequency among all the articles after processing the text\n",
    "*   Find the top unigrams,bigrams and trigrams by frequency among all the complaints after processing the text. ‘\n",
    "\n",
    "\n"
   ]
  },
  {
   "cell_type": "code",
   "execution_count": 29,
   "metadata": {
    "id": "q-zaqJF6JrF2"
   },
   "outputs": [
    {
     "data": {
      "image/png": "[encoded data removed]",
      "text/plain": [
       "<Figure size 1000x600 with 1 Axes>"
      ]
     },
     "metadata": {},
     "output_type": "display_data"
    }
   ],
   "source": [
    "# Write your code here to visualise the data according to the 'Complaint' character length\n",
    "plt.figure(figsize=(10, 6))\n",
    "sns.histplot(df_clean['complaints_lemmatized'].str.len(), bins=50, kde=True)\n",
    "plt.title('Distribution of Complaint Character Length')\n",
    "plt.xlabel('Character Length of Complaint')\n",
    "plt.ylabel('Frequency')\n",
    "plt.show()"
   ]
  },
  {
   "cell_type": "markdown",
   "metadata": {
    "id": "T9jD_6SeJrF3"
   },
   "source": [
    "#### Find the top 40 words by frequency among all the articles after processing the text."
   ]
  },
  {
   "cell_type": "code",
   "execution_count": 30,
   "metadata": {
    "id": "QcfdvtfZJrF3"
   },
   "outputs": [
    {
     "data": {
      "image/png": "[encoded data removed]",
      "text/plain": [
       "<Figure size 1000x500 with 1 Axes>"
      ]
     },
     "metadata": {},
     "output_type": "display_data"
    }
   ],
   "source": [
    "#Using a word cloud find the top 40 words by frequency among all the articles after processing the text\n",
    "from wordcloud import WordCloud\n",
    "text = ' '.join(df_clean['complaints_lemmatized'])\n",
    "wordcloud = WordCloud(width=800, height=400, background_color='white', max_words=40).generate(text)\n",
    "plt.figure(figsize=(10, 5))\n",
    "plt.imshow(wordcloud, interpolation='bilinear')\n",
    "plt.axis('off')\n",
    "plt.title('Top 40 Words by Frequency in Complaints')\n",
    "plt.show()"
   ]
  },
  {
   "cell_type": "code",
   "execution_count": 31,
   "metadata": {
    "id": "OkSmc3UaJrF4"
   },
   "outputs": [
    {
     "name": "stderr",
     "output_type": "stream",
     "text": [
      "/var/folders/yd/nd90kgx9607bb_l11wjrdqkh0000gn/T/ipykernel_1137/1697981806.py:2: SettingWithCopyWarning: \n",
      "A value is trying to be set on a copy of a slice from a DataFrame.\n",
      "Try using .loc[row_indexer,col_indexer] = value instead\n",
      "\n",
      "See the caveats in the documentation: https://pandas.pydata.org/pandas-docs/stable/user_guide/indexing.html#returning-a-view-versus-a-copy\n",
      "  df_clean['Complaint_clean'] = df_clean['complaint_POS_removed'].str.replace('-PRON-', '')\n"
     ]
    }
   ],
   "source": [
    "#Removing -PRON- from the text corpus\n",
    "df_clean['Complaint_clean'] = df_clean['complaint_POS_removed'].str.replace('-PRON-', '')\n"
   ]
  },
  {
   "cell_type": "markdown",
   "metadata": {
    "id": "5DfCSbbmJrF4"
   },
   "source": [
    "#### Find the top unigrams,bigrams and trigrams by frequency among all the complaints after processing the text."
   ]
  },
  {
   "cell_type": "code",
   "execution_count": 32,
   "metadata": {
    "id": "5mbk5DS5JrF4"
   },
   "outputs": [
    {
     "data": {
      "text/html": [
       "<div>\n",
       "<style scoped>\n",
       "    .dataframe tbody tr th:only-of-type {\n",
       "        vertical-align: middle;\n",
       "    }\n",
       "\n",
       "    .dataframe tbody tr th {\n",
       "        vertical-align: top;\n",
       "    }\n",
       "\n",
       "    .dataframe thead th {\n",
       "        text-align: right;\n",
       "    }\n",
       "</style>\n",
       "<table border=\"1\" class=\"dataframe\">\n",
       "  <thead>\n",
       "    <tr style=\"text-align: right;\">\n",
       "      <th></th>\n",
       "      <th>word</th>\n",
       "      <th>frequency</th>\n",
       "    </tr>\n",
       "  </thead>\n",
       "  <tbody>\n",
       "    <tr>\n",
       "      <th>0</th>\n",
       "      <td>chase</td>\n",
       "      <td>63973</td>\n",
       "    </tr>\n",
       "    <tr>\n",
       "      <th>1</th>\n",
       "      <td>account</td>\n",
       "      <td>45247</td>\n",
       "    </tr>\n",
       "    <tr>\n",
       "      <th>2</th>\n",
       "      <td>credit</td>\n",
       "      <td>33700</td>\n",
       "    </tr>\n",
       "    <tr>\n",
       "      <th>3</th>\n",
       "      <td>card</td>\n",
       "      <td>30233</td>\n",
       "    </tr>\n",
       "    <tr>\n",
       "      <th>4</th>\n",
       "      <td>bank</td>\n",
       "      <td>21721</td>\n",
       "    </tr>\n",
       "    <tr>\n",
       "      <th>5</th>\n",
       "      <td>payment</td>\n",
       "      <td>21160</td>\n",
       "    </tr>\n",
       "    <tr>\n",
       "      <th>6</th>\n",
       "      <td>time</td>\n",
       "      <td>15978</td>\n",
       "    </tr>\n",
       "    <tr>\n",
       "      <th>7</th>\n",
       "      <td>charge</td>\n",
       "      <td>14910</td>\n",
       "    </tr>\n",
       "    <tr>\n",
       "      <th>8</th>\n",
       "      <td>day</td>\n",
       "      <td>13185</td>\n",
       "    </tr>\n",
       "    <tr>\n",
       "      <th>9</th>\n",
       "      <td>money</td>\n",
       "      <td>11936</td>\n",
       "    </tr>\n",
       "    <tr>\n",
       "      <th>10</th>\n",
       "      <td>check</td>\n",
       "      <td>11574</td>\n",
       "    </tr>\n",
       "    <tr>\n",
       "      <th>11</th>\n",
       "      <td>loan</td>\n",
       "      <td>10794</td>\n",
       "    </tr>\n",
       "    <tr>\n",
       "      <th>12</th>\n",
       "      <td>information</td>\n",
       "      <td>9642</td>\n",
       "    </tr>\n",
       "    <tr>\n",
       "      <th>13</th>\n",
       "      <td>letter</td>\n",
       "      <td>9563</td>\n",
       "    </tr>\n",
       "    <tr>\n",
       "      <th>14</th>\n",
       "      <td>xxxxxxxx</td>\n",
       "      <td>9345</td>\n",
       "    </tr>\n",
       "    <tr>\n",
       "      <th>15</th>\n",
       "      <td>report</td>\n",
       "      <td>8914</td>\n",
       "    </tr>\n",
       "    <tr>\n",
       "      <th>16</th>\n",
       "      <td>fee</td>\n",
       "      <td>8851</td>\n",
       "    </tr>\n",
       "    <tr>\n",
       "      <th>17</th>\n",
       "      <td>number</td>\n",
       "      <td>8587</td>\n",
       "    </tr>\n",
       "    <tr>\n",
       "      <th>18</th>\n",
       "      <td>transaction</td>\n",
       "      <td>8585</td>\n",
       "    </tr>\n",
       "    <tr>\n",
       "      <th>19</th>\n",
       "      <td>month</td>\n",
       "      <td>8506</td>\n",
       "    </tr>\n",
       "    <tr>\n",
       "      <th>20</th>\n",
       "      <td>year</td>\n",
       "      <td>8390</td>\n",
       "    </tr>\n",
       "    <tr>\n",
       "      <th>21</th>\n",
       "      <td>customer</td>\n",
       "      <td>8120</td>\n",
       "    </tr>\n",
       "    <tr>\n",
       "      <th>22</th>\n",
       "      <td>mortgage</td>\n",
       "      <td>7945</td>\n",
       "    </tr>\n",
       "    <tr>\n",
       "      <th>23</th>\n",
       "      <td>service</td>\n",
       "      <td>7731</td>\n",
       "    </tr>\n",
       "    <tr>\n",
       "      <th>24</th>\n",
       "      <td>balance</td>\n",
       "      <td>7705</td>\n",
       "    </tr>\n",
       "    <tr>\n",
       "      <th>25</th>\n",
       "      <td>state</td>\n",
       "      <td>7654</td>\n",
       "    </tr>\n",
       "    <tr>\n",
       "      <th>26</th>\n",
       "      <td>phone</td>\n",
       "      <td>7628</td>\n",
       "    </tr>\n",
       "    <tr>\n",
       "      <th>27</th>\n",
       "      <td>company</td>\n",
       "      <td>7534</td>\n",
       "    </tr>\n",
       "    <tr>\n",
       "      <th>28</th>\n",
       "      <td>contact</td>\n",
       "      <td>7392</td>\n",
       "    </tr>\n",
       "    <tr>\n",
       "      <th>29</th>\n",
       "      <td>fund</td>\n",
       "      <td>7055</td>\n",
       "    </tr>\n",
       "  </tbody>\n",
       "</table>\n",
       "</div>"
      ],
      "text/plain": [
       "           word  frequency\n",
       "0         chase      63973\n",
       "1       account      45247\n",
       "2        credit      33700\n",
       "3          card      30233\n",
       "4          bank      21721\n",
       "5       payment      21160\n",
       "6          time      15978\n",
       "7        charge      14910\n",
       "8           day      13185\n",
       "9         money      11936\n",
       "10        check      11574\n",
       "11         loan      10794\n",
       "12  information       9642\n",
       "13       letter       9563\n",
       "14     xxxxxxxx       9345\n",
       "15       report       8914\n",
       "16          fee       8851\n",
       "17       number       8587\n",
       "18  transaction       8585\n",
       "19        month       8506\n",
       "20         year       8390\n",
       "21     customer       8120\n",
       "22     mortgage       7945\n",
       "23      service       7731\n",
       "24      balance       7705\n",
       "25        state       7654\n",
       "26        phone       7628\n",
       "27      company       7534\n",
       "28      contact       7392\n",
       "29         fund       7055"
      ]
     },
     "execution_count": 32,
     "metadata": {},
     "output_type": "execute_result"
    }
   ],
   "source": [
    "#Write your code here to find the top 30 unigram frequency among the complaints in the cleaned datafram(df_clean). \n",
    "# df_clean\n",
    "vectorizer = CountVectorizer(ngram_range=(1, 1), stop_words='english')\n",
    "X = vectorizer.fit_transform(df_clean['Complaint_clean'])\n",
    "unigram_freq = pd.DataFrame(X.toarray(), columns=vectorizer.get_feature_names_out())\n",
    "unigram_freq = unigram_freq.sum().reset_index()\n",
    "unigram_freq.columns = ['word', 'frequency']\n",
    "unigram_freq = unigram_freq.sort_values(by='frequency', ascending=False).head(30)\n",
    "unigram_freq.reset_index(drop=True, inplace=True)\n",
    "unigram_freq"
   ]
  },
  {
   "cell_type": "code",
   "execution_count": 33,
   "metadata": {
    "id": "YX7fedm1JrF8"
   },
   "outputs": [
    {
     "name": "stdout",
     "output_type": "stream",
     "text": [
      "Top 10 Unigram Frequencies:\n",
      "      word  frequency\n",
      "0    chase      63973\n",
      "1  account      45247\n",
      "2   credit      33700\n",
      "3     card      30233\n",
      "4     bank      21721\n",
      "5  payment      21160\n",
      "6     time      15978\n",
      "7   charge      14910\n",
      "8      day      13185\n",
      "9    money      11936\n"
     ]
    }
   ],
   "source": [
    "#Print the top 10 words in the unigram frequency\n",
    "print(\"Top 10 Unigram Frequencies:\")\n",
    "print(unigram_freq.head(10))"
   ]
  },
  {
   "cell_type": "code",
   "execution_count": 34,
   "metadata": {
    "id": "aV7kD7w8JrF8"
   },
   "outputs": [
    {
     "data": {
      "text/html": [
       "<div>\n",
       "<style scoped>\n",
       "    .dataframe tbody tr th:only-of-type {\n",
       "        vertical-align: middle;\n",
       "    }\n",
       "\n",
       "    .dataframe tbody tr th {\n",
       "        vertical-align: top;\n",
       "    }\n",
       "\n",
       "    .dataframe thead th {\n",
       "        text-align: right;\n",
       "    }\n",
       "</style>\n",
       "<table border=\"1\" class=\"dataframe\">\n",
       "  <thead>\n",
       "    <tr style=\"text-align: right;\">\n",
       "      <th></th>\n",
       "      <th>word</th>\n",
       "      <th>frequency</th>\n",
       "    </tr>\n",
       "  </thead>\n",
       "  <tbody>\n",
       "    <tr>\n",
       "      <th>0</th>\n",
       "      <td>credit card</td>\n",
       "      <td>12859</td>\n",
       "    </tr>\n",
       "    <tr>\n",
       "      <th>1</th>\n",
       "      <td>credit report</td>\n",
       "      <td>3947</td>\n",
       "    </tr>\n",
       "    <tr>\n",
       "      <th>2</th>\n",
       "      <td>chase bank</td>\n",
       "      <td>3788</td>\n",
       "    </tr>\n",
       "    <tr>\n",
       "      <th>3</th>\n",
       "      <td>chase credit</td>\n",
       "      <td>3442</td>\n",
       "    </tr>\n",
       "    <tr>\n",
       "      <th>4</th>\n",
       "      <td>account chase</td>\n",
       "      <td>3334</td>\n",
       "    </tr>\n",
       "    <tr>\n",
       "      <th>5</th>\n",
       "      <td>customer service</td>\n",
       "      <td>3061</td>\n",
       "    </tr>\n",
       "    <tr>\n",
       "      <th>6</th>\n",
       "      <td>chase account</td>\n",
       "      <td>2850</td>\n",
       "    </tr>\n",
       "    <tr>\n",
       "      <th>7</th>\n",
       "      <td>account account</td>\n",
       "      <td>2360</td>\n",
       "    </tr>\n",
       "    <tr>\n",
       "      <th>8</th>\n",
       "      <td>bank account</td>\n",
       "      <td>2301</td>\n",
       "    </tr>\n",
       "    <tr>\n",
       "      <th>9</th>\n",
       "      <td>check account</td>\n",
       "      <td>2266</td>\n",
       "    </tr>\n",
       "    <tr>\n",
       "      <th>10</th>\n",
       "      <td>contact chase</td>\n",
       "      <td>2190</td>\n",
       "    </tr>\n",
       "    <tr>\n",
       "      <th>11</th>\n",
       "      <td>debit card</td>\n",
       "      <td>1996</td>\n",
       "    </tr>\n",
       "    <tr>\n",
       "      <th>12</th>\n",
       "      <td>chase card</td>\n",
       "      <td>1770</td>\n",
       "    </tr>\n",
       "    <tr>\n",
       "      <th>13</th>\n",
       "      <td>card chase</td>\n",
       "      <td>1768</td>\n",
       "    </tr>\n",
       "    <tr>\n",
       "      <th>14</th>\n",
       "      <td>credit score</td>\n",
       "      <td>1710</td>\n",
       "    </tr>\n",
       "    <tr>\n",
       "      <th>15</th>\n",
       "      <td>card account</td>\n",
       "      <td>1698</td>\n",
       "    </tr>\n",
       "    <tr>\n",
       "      <th>16</th>\n",
       "      <td>account credit</td>\n",
       "      <td>1493</td>\n",
       "    </tr>\n",
       "    <tr>\n",
       "      <th>17</th>\n",
       "      <td>payment payment</td>\n",
       "      <td>1476</td>\n",
       "    </tr>\n",
       "    <tr>\n",
       "      <th>18</th>\n",
       "      <td>chase chase</td>\n",
       "      <td>1430</td>\n",
       "    </tr>\n",
       "    <tr>\n",
       "      <th>19</th>\n",
       "      <td>chase customer</td>\n",
       "      <td>1393</td>\n",
       "    </tr>\n",
       "    <tr>\n",
       "      <th>20</th>\n",
       "      <td>money account</td>\n",
       "      <td>1321</td>\n",
       "    </tr>\n",
       "    <tr>\n",
       "      <th>21</th>\n",
       "      <td>phone number</td>\n",
       "      <td>1261</td>\n",
       "    </tr>\n",
       "    <tr>\n",
       "      <th>22</th>\n",
       "      <td>payment chase</td>\n",
       "      <td>1255</td>\n",
       "    </tr>\n",
       "    <tr>\n",
       "      <th>23</th>\n",
       "      <td>account bank</td>\n",
       "      <td>1237</td>\n",
       "    </tr>\n",
       "    <tr>\n",
       "      <th>24</th>\n",
       "      <td>letter chase</td>\n",
       "      <td>1233</td>\n",
       "    </tr>\n",
       "    <tr>\n",
       "      <th>25</th>\n",
       "      <td>business day</td>\n",
       "      <td>1211</td>\n",
       "    </tr>\n",
       "    <tr>\n",
       "      <th>26</th>\n",
       "      <td>account number</td>\n",
       "      <td>1137</td>\n",
       "    </tr>\n",
       "    <tr>\n",
       "      <th>27</th>\n",
       "      <td>card company</td>\n",
       "      <td>1132</td>\n",
       "    </tr>\n",
       "    <tr>\n",
       "      <th>28</th>\n",
       "      <td>charge chase</td>\n",
       "      <td>1115</td>\n",
       "    </tr>\n",
       "    <tr>\n",
       "      <th>29</th>\n",
       "      <td>charge account</td>\n",
       "      <td>1113</td>\n",
       "    </tr>\n",
       "  </tbody>\n",
       "</table>\n",
       "</div>"
      ],
      "text/plain": [
       "                word  frequency\n",
       "0        credit card      12859\n",
       "1      credit report       3947\n",
       "2         chase bank       3788\n",
       "3       chase credit       3442\n",
       "4      account chase       3334\n",
       "5   customer service       3061\n",
       "6      chase account       2850\n",
       "7    account account       2360\n",
       "8       bank account       2301\n",
       "9      check account       2266\n",
       "10     contact chase       2190\n",
       "11        debit card       1996\n",
       "12        chase card       1770\n",
       "13        card chase       1768\n",
       "14      credit score       1710\n",
       "15      card account       1698\n",
       "16    account credit       1493\n",
       "17   payment payment       1476\n",
       "18       chase chase       1430\n",
       "19    chase customer       1393\n",
       "20     money account       1321\n",
       "21      phone number       1261\n",
       "22     payment chase       1255\n",
       "23      account bank       1237\n",
       "24      letter chase       1233\n",
       "25      business day       1211\n",
       "26    account number       1137\n",
       "27      card company       1132\n",
       "28      charge chase       1115\n",
       "29    charge account       1113"
      ]
     },
     "execution_count": 34,
     "metadata": {},
     "output_type": "execute_result"
    }
   ],
   "source": [
    "#Write your code here to find the top 30 bigram frequency among the complaints in the cleaned datafram(df_clean). \n",
    "vectorizer_bigram = CountVectorizer(ngram_range=(2, 2), stop_words='english')\n",
    "X_bigram = vectorizer_bigram.fit_transform(df_clean['Complaint_clean'])\n",
    "bigram_freq = pd.DataFrame(X_bigram.toarray(), columns=vectorizer_bigram.get_feature_names_out())\n",
    "bigram_freq = bigram_freq.sum().reset_index()\n",
    "bigram_freq.columns = ['word', 'frequency']\n",
    "bigram_freq = bigram_freq.sort_values(by='frequency', ascending=False).head(30)\n",
    "bigram_freq.reset_index(drop=True, inplace=True)\n",
    "bigram_freq"
   ]
  },
  {
   "cell_type": "code",
   "execution_count": 35,
   "metadata": {
    "id": "NPnMNIpyJrF9"
   },
   "outputs": [
    {
     "name": "stdout",
     "output_type": "stream",
     "text": [
      "Top 10 Bigram Frequencies:\n",
      "               word  frequency\n",
      "0       credit card      12859\n",
      "1     credit report       3947\n",
      "2        chase bank       3788\n",
      "3      chase credit       3442\n",
      "4     account chase       3334\n",
      "5  customer service       3061\n",
      "6     chase account       2850\n",
      "7   account account       2360\n",
      "8      bank account       2301\n",
      "9     check account       2266\n"
     ]
    }
   ],
   "source": [
    "#Print the top 10 words in the bigram frequency\n",
    "print(\"Top 10 Bigram Frequencies:\")\n",
    "print(bigram_freq.head(10))"
   ]
  },
  {
   "cell_type": "code",
   "execution_count": 36,
   "metadata": {
    "id": "Xkh7vtbtJrF-"
   },
   "outputs": [],
   "source": [
    "#Write your code here to find the top 30 trigram frequency among the complaints in the cleaned datafram(df_clean). \n",
    "vectorizer_trigram = CountVectorizer(ngram_range=(3, 3), stop_words='english')\n"
   ]
  },
  {
   "cell_type": "code",
   "execution_count": 37,
   "metadata": {},
   "outputs": [],
   "source": [
    "X_trigram = vectorizer_trigram.fit_transform(df_clean['Complaint_clean'].dropna())\n"
   ]
  },
  {
   "cell_type": "code",
   "execution_count": 38,
   "metadata": {},
   "outputs": [],
   "source": [
    "trigram_counts = X_trigram.sum(axis=0)\n"
   ]
  },
  {
   "cell_type": "code",
   "execution_count": 39,
   "metadata": {},
   "outputs": [],
   "source": [
    "trigram_freq = dict(zip(vectorizer_trigram.get_feature_names_out(), trigram_counts.A1))\n"
   ]
  },
  {
   "cell_type": "code",
   "execution_count": 40,
   "metadata": {},
   "outputs": [],
   "source": [
    "df_trigram_freq = pd.DataFrame(trigram_freq.items(), columns=['word-Trigram', 'frequency'])"
   ]
  },
  {
   "cell_type": "code",
   "execution_count": 41,
   "metadata": {},
   "outputs": [
    {
     "data": {
      "text/html": [
       "<div>\n",
       "<style scoped>\n",
       "    .dataframe tbody tr th:only-of-type {\n",
       "        vertical-align: middle;\n",
       "    }\n",
       "\n",
       "    .dataframe tbody tr th {\n",
       "        vertical-align: top;\n",
       "    }\n",
       "\n",
       "    .dataframe thead th {\n",
       "        text-align: right;\n",
       "    }\n",
       "</style>\n",
       "<table border=\"1\" class=\"dataframe\">\n",
       "  <thead>\n",
       "    <tr style=\"text-align: right;\">\n",
       "      <th></th>\n",
       "      <th>word-Trigram</th>\n",
       "      <th>frequency</th>\n",
       "    </tr>\n",
       "  </thead>\n",
       "  <tbody>\n",
       "    <tr>\n",
       "      <th>0</th>\n",
       "      <td>chase credit card</td>\n",
       "      <td>2343</td>\n",
       "    </tr>\n",
       "    <tr>\n",
       "      <th>1</th>\n",
       "      <td>credit card account</td>\n",
       "      <td>1107</td>\n",
       "    </tr>\n",
       "    <tr>\n",
       "      <th>2</th>\n",
       "      <td>credit card company</td>\n",
       "      <td>998</td>\n",
       "    </tr>\n",
       "    <tr>\n",
       "      <th>3</th>\n",
       "      <td>credit card chase</td>\n",
       "      <td>824</td>\n",
       "    </tr>\n",
       "    <tr>\n",
       "      <th>4</th>\n",
       "      <td>chase customer service</td>\n",
       "      <td>649</td>\n",
       "    </tr>\n",
       "    <tr>\n",
       "      <th>5</th>\n",
       "      <td>credit card credit</td>\n",
       "      <td>527</td>\n",
       "    </tr>\n",
       "    <tr>\n",
       "      <th>6</th>\n",
       "      <td>inquiry credit report</td>\n",
       "      <td>518</td>\n",
       "    </tr>\n",
       "    <tr>\n",
       "      <th>7</th>\n",
       "      <td>charge credit card</td>\n",
       "      <td>424</td>\n",
       "    </tr>\n",
       "    <tr>\n",
       "      <th>8</th>\n",
       "      <td>account credit card</td>\n",
       "      <td>422</td>\n",
       "    </tr>\n",
       "    <tr>\n",
       "      <th>9</th>\n",
       "      <td>chase check account</td>\n",
       "      <td>420</td>\n",
       "    </tr>\n",
       "    <tr>\n",
       "      <th>10</th>\n",
       "      <td>card credit card</td>\n",
       "      <td>399</td>\n",
       "    </tr>\n",
       "    <tr>\n",
       "      <th>11</th>\n",
       "      <td>credit reporting agency</td>\n",
       "      <td>373</td>\n",
       "    </tr>\n",
       "    <tr>\n",
       "      <th>12</th>\n",
       "      <td>customer service representative</td>\n",
       "      <td>344</td>\n",
       "    </tr>\n",
       "    <tr>\n",
       "      <th>13</th>\n",
       "      <td>credit report credit</td>\n",
       "      <td>339</td>\n",
       "    </tr>\n",
       "    <tr>\n",
       "      <th>14</th>\n",
       "      <td>credit reporting act</td>\n",
       "      <td>332</td>\n",
       "    </tr>\n",
       "    <tr>\n",
       "      <th>15</th>\n",
       "      <td>credit card charge</td>\n",
       "      <td>330</td>\n",
       "    </tr>\n",
       "    <tr>\n",
       "      <th>16</th>\n",
       "      <td>credit card payment</td>\n",
       "      <td>311</td>\n",
       "    </tr>\n",
       "    <tr>\n",
       "      <th>17</th>\n",
       "      <td>account chase account</td>\n",
       "      <td>302</td>\n",
       "    </tr>\n",
       "    <tr>\n",
       "      <th>18</th>\n",
       "      <td>account credit report</td>\n",
       "      <td>300</td>\n",
       "    </tr>\n",
       "    <tr>\n",
       "      <th>19</th>\n",
       "      <td>account chase bank</td>\n",
       "      <td>290</td>\n",
       "    </tr>\n",
       "    <tr>\n",
       "      <th>20</th>\n",
       "      <td>credit report chase</td>\n",
       "      <td>261</td>\n",
       "    </tr>\n",
       "    <tr>\n",
       "      <th>21</th>\n",
       "      <td>credit card balance</td>\n",
       "      <td>259</td>\n",
       "    </tr>\n",
       "    <tr>\n",
       "      <th>22</th>\n",
       "      <td>bank credit card</td>\n",
       "      <td>258</td>\n",
       "    </tr>\n",
       "    <tr>\n",
       "      <th>23</th>\n",
       "      <td>file police report</td>\n",
       "      <td>257</td>\n",
       "    </tr>\n",
       "    <tr>\n",
       "      <th>24</th>\n",
       "      <td>credit card card</td>\n",
       "      <td>253</td>\n",
       "    </tr>\n",
       "    <tr>\n",
       "      <th>25</th>\n",
       "      <td>victim identity theft</td>\n",
       "      <td>250</td>\n",
       "    </tr>\n",
       "    <tr>\n",
       "      <th>26</th>\n",
       "      <td>chase card service</td>\n",
       "      <td>248</td>\n",
       "    </tr>\n",
       "    <tr>\n",
       "      <th>27</th>\n",
       "      <td>credit card bank</td>\n",
       "      <td>241</td>\n",
       "    </tr>\n",
       "    <tr>\n",
       "      <th>28</th>\n",
       "      <td>chase bank account</td>\n",
       "      <td>233</td>\n",
       "    </tr>\n",
       "    <tr>\n",
       "      <th>29</th>\n",
       "      <td>credit card service</td>\n",
       "      <td>229</td>\n",
       "    </tr>\n",
       "  </tbody>\n",
       "</table>\n",
       "</div>"
      ],
      "text/plain": [
       "                       word-Trigram  frequency\n",
       "0                 chase credit card       2343\n",
       "1               credit card account       1107\n",
       "2               credit card company        998\n",
       "3                 credit card chase        824\n",
       "4            chase customer service        649\n",
       "5                credit card credit        527\n",
       "6             inquiry credit report        518\n",
       "7                charge credit card        424\n",
       "8               account credit card        422\n",
       "9               chase check account        420\n",
       "10                 card credit card        399\n",
       "11          credit reporting agency        373\n",
       "12  customer service representative        344\n",
       "13             credit report credit        339\n",
       "14             credit reporting act        332\n",
       "15               credit card charge        330\n",
       "16              credit card payment        311\n",
       "17            account chase account        302\n",
       "18            account credit report        300\n",
       "19               account chase bank        290\n",
       "20              credit report chase        261\n",
       "21              credit card balance        259\n",
       "22                 bank credit card        258\n",
       "23               file police report        257\n",
       "24                 credit card card        253\n",
       "25            victim identity theft        250\n",
       "26               chase card service        248\n",
       "27                 credit card bank        241\n",
       "28               chase bank account        233\n",
       "29              credit card service        229"
      ]
     },
     "execution_count": 41,
     "metadata": {},
     "output_type": "execute_result"
    }
   ],
   "source": [
    "triram_freq = df_trigram_freq.sort_values(by='frequency', ascending=False).head(30)\n",
    "triram_freq.reset_index(drop=True, inplace=True)\n",
    "triram_freq"
   ]
  },
  {
   "cell_type": "code",
   "execution_count": 42,
   "metadata": {
    "id": "REcVxNfvJrF-"
   },
   "outputs": [
    {
     "name": "stdout",
     "output_type": "stream",
     "text": [
      "Top 10 Trigram Frequencies:\n",
      "             word-Trigram  frequency\n",
      "0       chase credit card       2343\n",
      "1     credit card account       1107\n",
      "2     credit card company        998\n",
      "3       credit card chase        824\n",
      "4  chase customer service        649\n",
      "5      credit card credit        527\n",
      "6   inquiry credit report        518\n",
      "7      charge credit card        424\n",
      "8     account credit card        422\n",
      "9     chase check account        420\n"
     ]
    }
   ],
   "source": [
    "#Print the top 10 words in the trigram frequency\n",
    "print(\"Top 10 Trigram Frequencies:\")\n",
    "print(triram_freq.head(10))"
   ]
  },
  {
   "cell_type": "markdown",
   "metadata": {
    "id": "yUXzFji0JrF_"
   },
   "source": [
    "## The personal details of customer has been masked in the dataset with xxxx. Let's remove the masked text as this will be of no use for our analysis"
   ]
  },
  {
   "cell_type": "code",
   "execution_count": 43,
   "metadata": {
    "id": "wKda-a_IJrF_"
   },
   "outputs": [
    {
     "name": "stderr",
     "output_type": "stream",
     "text": [
      "/var/folders/yd/nd90kgx9607bb_l11wjrdqkh0000gn/T/ipykernel_1137/619742717.py:1: SettingWithCopyWarning: \n",
      "A value is trying to be set on a copy of a slice from a DataFrame.\n",
      "Try using .loc[row_indexer,col_indexer] = value instead\n",
      "\n",
      "See the caveats in the documentation: https://pandas.pydata.org/pandas-docs/stable/user_guide/indexing.html#returning-a-view-versus-a-copy\n",
      "  df_clean['Complaint_clean'] = df_clean['Complaint_clean'].str.replace('xxxx','')\n"
     ]
    }
   ],
   "source": [
    "df_clean['Complaint_clean'] = df_clean['Complaint_clean'].str.replace('xxxx','')"
   ]
  },
  {
   "cell_type": "code",
   "execution_count": 44,
   "metadata": {
    "id": "9UIFk8fQJrF_"
   },
   "outputs": [
    {
     "data": {
      "text/html": [
       "<div>\n",
       "<style scoped>\n",
       "    .dataframe tbody tr th:only-of-type {\n",
       "        vertical-align: middle;\n",
       "    }\n",
       "\n",
       "    .dataframe tbody tr th {\n",
       "        vertical-align: top;\n",
       "    }\n",
       "\n",
       "    .dataframe thead th {\n",
       "        text-align: right;\n",
       "    }\n",
       "</style>\n",
       "<table border=\"1\" class=\"dataframe\">\n",
       "  <thead>\n",
       "    <tr style=\"text-align: right;\">\n",
       "      <th></th>\n",
       "      <th>complaint_description</th>\n",
       "      <th>complaints_lemmatized</th>\n",
       "      <th>complaint_POS_removed</th>\n",
       "      <th>Complaint_clean</th>\n",
       "    </tr>\n",
       "  </thead>\n",
       "  <tbody>\n",
       "    <tr>\n",
       "      <th>1</th>\n",
       "      <td>good morning  name  xxxx xxxx and  appreciate ...</td>\n",
       "      <td>good morning   name   xxxx xxxx and   apprecia...</td>\n",
       "      <td>morning name chase ask debt verification state...</td>\n",
       "      <td>morning name chase ask debt verification state...</td>\n",
       "    </tr>\n",
       "    <tr>\n",
       "      <th>2</th>\n",
       "      <td>upgraded  xxxx xxxx card  xxxx and was told  ...</td>\n",
       "      <td>upgrade   xxxx xxxx card   xxxx and be tell ...</td>\n",
       "      <td>card agent upgrade anniversary date agent info...</td>\n",
       "      <td>card agent upgrade anniversary date agent info...</td>\n",
       "    </tr>\n",
       "    <tr>\n",
       "      <th>10</th>\n",
       "      <td>chase card was reported  xxxx however fraudule...</td>\n",
       "      <td>chase card be report   xxxx however fraudulent...</td>\n",
       "      <td>chase card report application identity consent...</td>\n",
       "      <td>chase card report application identity consent...</td>\n",
       "    </tr>\n",
       "    <tr>\n",
       "      <th>11</th>\n",
       "      <td>xxxx while trying  book  xxxx xxxx ticket  ca...</td>\n",
       "      <td>xxxx while try   book   xxxx xxxx ticket   c...</td>\n",
       "      <td>book ticket offer ticket reward card informati...</td>\n",
       "      <td>book ticket offer ticket reward card informati...</td>\n",
       "    </tr>\n",
       "    <tr>\n",
       "      <th>14</th>\n",
       "      <td>grand son give  check for   deposit  into  ch...</td>\n",
       "      <td>grand son give   check for    deposit   into...</td>\n",
       "      <td>son check deposit chase account fund account m...</td>\n",
       "      <td>son check deposit chase account fund account m...</td>\n",
       "    </tr>\n",
       "    <tr>\n",
       "      <th>...</th>\n",
       "      <td>...</td>\n",
       "      <td>...</td>\n",
       "      <td>...</td>\n",
       "      <td>...</td>\n",
       "    </tr>\n",
       "    <tr>\n",
       "      <th>78303</th>\n",
       "      <td>after being  chase card customer for well over...</td>\n",
       "      <td>after be   chase card customer for well over  ...</td>\n",
       "      <td>chase card customer decade solicitation credit...</td>\n",
       "      <td>chase card customer decade solicitation credit...</td>\n",
       "    </tr>\n",
       "    <tr>\n",
       "      <th>78309</th>\n",
       "      <td>wednesday xxxxxxxx  called chas  xxxx xxxx vi...</td>\n",
       "      <td>wednesday xxxxxxxx   call chas   xxxx xxxx v...</td>\n",
       "      <td>credit card provider claim purchase protection...</td>\n",
       "      <td>credit card provider claim purchase protection...</td>\n",
       "    </tr>\n",
       "    <tr>\n",
       "      <th>78310</th>\n",
       "      <td>not familiar with xxxx pay and did not under...</td>\n",
       "      <td>not familiar with xxxx pay and do not under...</td>\n",
       "      <td>pay risk consumer chase year banking deal merc...</td>\n",
       "      <td>pay risk consumer chase year banking deal merc...</td>\n",
       "    </tr>\n",
       "    <tr>\n",
       "      <th>78311</th>\n",
       "      <td>have had flawless credit for yrs ive had chas...</td>\n",
       "      <td>have have flawless credit for yrs I ve have ...</td>\n",
       "      <td>credit yrs chase credit card chase freedom pro...</td>\n",
       "      <td>credit yrs chase credit card chase freedom pro...</td>\n",
       "    </tr>\n",
       "    <tr>\n",
       "      <th>78312</th>\n",
       "      <td>roughly  years ago  closed out  accounts with ...</td>\n",
       "      <td>roughly   year ago   close out   account with ...</td>\n",
       "      <td>year account order line credit payment account...</td>\n",
       "      <td>year account order line credit payment account...</td>\n",
       "    </tr>\n",
       "  </tbody>\n",
       "</table>\n",
       "<p>21072 rows × 4 columns</p>\n",
       "</div>"
      ],
      "text/plain": [
       "                                   complaint_description  \\\n",
       "1      good morning  name  xxxx xxxx and  appreciate ...   \n",
       "2       upgraded  xxxx xxxx card  xxxx and was told  ...   \n",
       "10     chase card was reported  xxxx however fraudule...   \n",
       "11      xxxx while trying  book  xxxx xxxx ticket  ca...   \n",
       "14      grand son give  check for   deposit  into  ch...   \n",
       "...                                                  ...   \n",
       "78303  after being  chase card customer for well over...   \n",
       "78309   wednesday xxxxxxxx  called chas  xxxx xxxx vi...   \n",
       "78310    not familiar with xxxx pay and did not under...   \n",
       "78311   have had flawless credit for yrs ive had chas...   \n",
       "78312  roughly  years ago  closed out  accounts with ...   \n",
       "\n",
       "                                   complaints_lemmatized  \\\n",
       "1      good morning   name   xxxx xxxx and   apprecia...   \n",
       "2        upgrade   xxxx xxxx card   xxxx and be tell ...   \n",
       "10     chase card be report   xxxx however fraudulent...   \n",
       "11       xxxx while try   book   xxxx xxxx ticket   c...   \n",
       "14       grand son give   check for    deposit   into...   \n",
       "...                                                  ...   \n",
       "78303  after be   chase card customer for well over  ...   \n",
       "78309    wednesday xxxxxxxx   call chas   xxxx xxxx v...   \n",
       "78310     not familiar with xxxx pay and do not under...   \n",
       "78311    have have flawless credit for yrs I ve have ...   \n",
       "78312  roughly   year ago   close out   account with ...   \n",
       "\n",
       "                                   complaint_POS_removed  \\\n",
       "1      morning name chase ask debt verification state...   \n",
       "2      card agent upgrade anniversary date agent info...   \n",
       "10     chase card report application identity consent...   \n",
       "11     book ticket offer ticket reward card informati...   \n",
       "14     son check deposit chase account fund account m...   \n",
       "...                                                  ...   \n",
       "78303  chase card customer decade solicitation credit...   \n",
       "78309  credit card provider claim purchase protection...   \n",
       "78310  pay risk consumer chase year banking deal merc...   \n",
       "78311  credit yrs chase credit card chase freedom pro...   \n",
       "78312  year account order line credit payment account...   \n",
       "\n",
       "                                         Complaint_clean  \n",
       "1      morning name chase ask debt verification state...  \n",
       "2      card agent upgrade anniversary date agent info...  \n",
       "10     chase card report application identity consent...  \n",
       "11     book ticket offer ticket reward card informati...  \n",
       "14     son check deposit chase account fund account m...  \n",
       "...                                                  ...  \n",
       "78303  chase card customer decade solicitation credit...  \n",
       "78309  credit card provider claim purchase protection...  \n",
       "78310  pay risk consumer chase year banking deal merc...  \n",
       "78311  credit yrs chase credit card chase freedom pro...  \n",
       "78312  year account order line credit payment account...  \n",
       "\n",
       "[21072 rows x 4 columns]"
      ]
     },
     "execution_count": 44,
     "metadata": {},
     "output_type": "execute_result"
    }
   ],
   "source": [
    "#All masked texts has been removed\n",
    "df_clean"
   ]
  },
  {
   "cell_type": "markdown",
   "metadata": {
    "id": "k-I0k0QtJrGA"
   },
   "source": [
    "## Feature Extraction\n",
    "Convert the raw texts to a matrix of TF-IDF features\n",
    "\n",
    "**max_df** is used for removing terms that appear too frequently, also known as \"corpus-specific stop words\"\n",
    "max_df = 0.95 means \"ignore terms that appear in more than 95% of the complaints\"\n",
    "\n",
    "**min_df** is used for removing terms that appear too infrequently\n",
    "min_df = 2 means \"ignore terms that appear in less than 2 complaints\""
   ]
  },
  {
   "cell_type": "code",
   "execution_count": 45,
   "metadata": {
    "id": "Y8fGwaCPJrGA"
   },
   "outputs": [],
   "source": [
    "#Write your code here to initialise the TfidfVectorizer \n",
    "# tfidf_vectorizer = TfidfVectorizer(ngram_range=(1, 3), stop_words='english')\n",
    "max_df = 0.95\n",
    "min_df = 2\n",
    "tfidf_vectorizer = TfidfVectorizer(max_df=max_df, min_df=min_df, ngram_range=(1, 3), stop_words='english')\n"
   ]
  },
  {
   "cell_type": "markdown",
   "metadata": {
    "id": "yYzD85nTJrGA"
   },
   "source": [
    "#### Create a document term matrix using fit_transform\n",
    "\n",
    "The contents of a document term matrix are tuples of (complaint_id,token_id) tf-idf score:\n",
    "The tuples that are not there have a tf-idf score of 0"
   ]
  },
  {
   "cell_type": "code",
   "execution_count": 46,
   "metadata": {
    "id": "ffzdDpp_JrGB"
   },
   "outputs": [
    {
     "data": {
      "text/html": [
       "<div>\n",
       "<style scoped>\n",
       "    .dataframe tbody tr th:only-of-type {\n",
       "        vertical-align: middle;\n",
       "    }\n",
       "\n",
       "    .dataframe tbody tr th {\n",
       "        vertical-align: top;\n",
       "    }\n",
       "\n",
       "    .dataframe thead th {\n",
       "        text-align: right;\n",
       "    }\n",
       "</style>\n",
       "<table border=\"1\" class=\"dataframe\">\n",
       "  <thead>\n",
       "    <tr style=\"text-align: right;\">\n",
       "      <th></th>\n",
       "      <th>aarp</th>\n",
       "      <th>aarp account</th>\n",
       "      <th>aarp card</th>\n",
       "      <th>aarp card credit</th>\n",
       "      <th>aarp chase</th>\n",
       "      <th>aarp chase card</th>\n",
       "      <th>aarp chase credit</th>\n",
       "      <th>aarp chase visa</th>\n",
       "      <th>aarp visa</th>\n",
       "      <th>aarp visa card</th>\n",
       "      <th>...</th>\n",
       "      <th>zip code chase</th>\n",
       "      <th>zip code mix</th>\n",
       "      <th>zip code payment</th>\n",
       "      <th>zip code request</th>\n",
       "      <th>zip code security</th>\n",
       "      <th>zip file</th>\n",
       "      <th>zombie</th>\n",
       "      <th>zombie debt</th>\n",
       "      <th>zone</th>\n",
       "      <th>zoom</th>\n",
       "    </tr>\n",
       "  </thead>\n",
       "  <tbody>\n",
       "    <tr>\n",
       "      <th>1</th>\n",
       "      <td>0.0</td>\n",
       "      <td>0.0</td>\n",
       "      <td>0.0</td>\n",
       "      <td>0.0</td>\n",
       "      <td>0.0</td>\n",
       "      <td>0.0</td>\n",
       "      <td>0.0</td>\n",
       "      <td>0.0</td>\n",
       "      <td>0.0</td>\n",
       "      <td>0.0</td>\n",
       "      <td>...</td>\n",
       "      <td>0.0</td>\n",
       "      <td>0.0</td>\n",
       "      <td>0.0</td>\n",
       "      <td>0.0</td>\n",
       "      <td>0.0</td>\n",
       "      <td>0.0</td>\n",
       "      <td>0.0</td>\n",
       "      <td>0.0</td>\n",
       "      <td>0.0</td>\n",
       "      <td>0.0</td>\n",
       "    </tr>\n",
       "    <tr>\n",
       "      <th>2</th>\n",
       "      <td>0.0</td>\n",
       "      <td>0.0</td>\n",
       "      <td>0.0</td>\n",
       "      <td>0.0</td>\n",
       "      <td>0.0</td>\n",
       "      <td>0.0</td>\n",
       "      <td>0.0</td>\n",
       "      <td>0.0</td>\n",
       "      <td>0.0</td>\n",
       "      <td>0.0</td>\n",
       "      <td>...</td>\n",
       "      <td>0.0</td>\n",
       "      <td>0.0</td>\n",
       "      <td>0.0</td>\n",
       "      <td>0.0</td>\n",
       "      <td>0.0</td>\n",
       "      <td>0.0</td>\n",
       "      <td>0.0</td>\n",
       "      <td>0.0</td>\n",
       "      <td>0.0</td>\n",
       "      <td>0.0</td>\n",
       "    </tr>\n",
       "    <tr>\n",
       "      <th>10</th>\n",
       "      <td>0.0</td>\n",
       "      <td>0.0</td>\n",
       "      <td>0.0</td>\n",
       "      <td>0.0</td>\n",
       "      <td>0.0</td>\n",
       "      <td>0.0</td>\n",
       "      <td>0.0</td>\n",
       "      <td>0.0</td>\n",
       "      <td>0.0</td>\n",
       "      <td>0.0</td>\n",
       "      <td>...</td>\n",
       "      <td>0.0</td>\n",
       "      <td>0.0</td>\n",
       "      <td>0.0</td>\n",
       "      <td>0.0</td>\n",
       "      <td>0.0</td>\n",
       "      <td>0.0</td>\n",
       "      <td>0.0</td>\n",
       "      <td>0.0</td>\n",
       "      <td>0.0</td>\n",
       "      <td>0.0</td>\n",
       "    </tr>\n",
       "    <tr>\n",
       "      <th>11</th>\n",
       "      <td>0.0</td>\n",
       "      <td>0.0</td>\n",
       "      <td>0.0</td>\n",
       "      <td>0.0</td>\n",
       "      <td>0.0</td>\n",
       "      <td>0.0</td>\n",
       "      <td>0.0</td>\n",
       "      <td>0.0</td>\n",
       "      <td>0.0</td>\n",
       "      <td>0.0</td>\n",
       "      <td>...</td>\n",
       "      <td>0.0</td>\n",
       "      <td>0.0</td>\n",
       "      <td>0.0</td>\n",
       "      <td>0.0</td>\n",
       "      <td>0.0</td>\n",
       "      <td>0.0</td>\n",
       "      <td>0.0</td>\n",
       "      <td>0.0</td>\n",
       "      <td>0.0</td>\n",
       "      <td>0.0</td>\n",
       "    </tr>\n",
       "    <tr>\n",
       "      <th>14</th>\n",
       "      <td>0.0</td>\n",
       "      <td>0.0</td>\n",
       "      <td>0.0</td>\n",
       "      <td>0.0</td>\n",
       "      <td>0.0</td>\n",
       "      <td>0.0</td>\n",
       "      <td>0.0</td>\n",
       "      <td>0.0</td>\n",
       "      <td>0.0</td>\n",
       "      <td>0.0</td>\n",
       "      <td>...</td>\n",
       "      <td>0.0</td>\n",
       "      <td>0.0</td>\n",
       "      <td>0.0</td>\n",
       "      <td>0.0</td>\n",
       "      <td>0.0</td>\n",
       "      <td>0.0</td>\n",
       "      <td>0.0</td>\n",
       "      <td>0.0</td>\n",
       "      <td>0.0</td>\n",
       "      <td>0.0</td>\n",
       "    </tr>\n",
       "  </tbody>\n",
       "</table>\n",
       "<p>5 rows × 191802 columns</p>\n",
       "</div>"
      ],
      "text/plain": [
       "    aarp  aarp account  aarp card  aarp card credit  aarp chase  \\\n",
       "1    0.0           0.0        0.0               0.0         0.0   \n",
       "2    0.0           0.0        0.0               0.0         0.0   \n",
       "10   0.0           0.0        0.0               0.0         0.0   \n",
       "11   0.0           0.0        0.0               0.0         0.0   \n",
       "14   0.0           0.0        0.0               0.0         0.0   \n",
       "\n",
       "    aarp chase card  aarp chase credit  aarp chase visa  aarp visa  \\\n",
       "1               0.0                0.0              0.0        0.0   \n",
       "2               0.0                0.0              0.0        0.0   \n",
       "10              0.0                0.0              0.0        0.0   \n",
       "11              0.0                0.0              0.0        0.0   \n",
       "14              0.0                0.0              0.0        0.0   \n",
       "\n",
       "    aarp visa card  ...  zip code chase  zip code mix  zip code payment  \\\n",
       "1              0.0  ...             0.0           0.0               0.0   \n",
       "2              0.0  ...             0.0           0.0               0.0   \n",
       "10             0.0  ...             0.0           0.0               0.0   \n",
       "11             0.0  ...             0.0           0.0               0.0   \n",
       "14             0.0  ...             0.0           0.0               0.0   \n",
       "\n",
       "    zip code request  zip code security  zip file  zombie  zombie debt  zone  \\\n",
       "1                0.0                0.0       0.0     0.0          0.0   0.0   \n",
       "2                0.0                0.0       0.0     0.0          0.0   0.0   \n",
       "10               0.0                0.0       0.0     0.0          0.0   0.0   \n",
       "11               0.0                0.0       0.0     0.0          0.0   0.0   \n",
       "14               0.0                0.0       0.0     0.0          0.0   0.0   \n",
       "\n",
       "    zoom  \n",
       "1    0.0  \n",
       "2    0.0  \n",
       "10   0.0  \n",
       "11   0.0  \n",
       "14   0.0  \n",
       "\n",
       "[5 rows x 191802 columns]"
      ]
     },
     "execution_count": 46,
     "metadata": {},
     "output_type": "execute_result"
    }
   ],
   "source": [
    "#Write your code here to create the Document Term Matrix by transforming the complaints column present in df_clean.\n",
    "X = tfidf_vectorizer.fit_transform(df_clean['Complaint_clean'])\n",
    "#Write your code here to convert the Document Term Matrix into a dataframe\n",
    "dtm = pd.DataFrame(X.toarray(), columns=tfidf_vectorizer.get_feature_names_out())\n",
    "dtm.index = df_clean.index\n",
    "dtm.head()\n"
   ]
  },
  {
   "cell_type": "markdown",
   "metadata": {
    "id": "7Q9lwvNEJrGB"
   },
   "source": [
    "## Topic Modelling using NMF\n",
    "\n",
    "Non-Negative Matrix Factorization (NMF) is an unsupervised technique so there are no labeling of topics that the model will be trained on. The way it works is that, NMF decomposes (or factorizes) high-dimensional vectors into a lower-dimensional representation. These lower-dimensional vectors are non-negative which also means their coefficients are non-negative.\n",
    "\n",
    "In this task you have to perform the following:\n",
    "\n",
    "* Find the best number of clusters \n",
    "* Apply the best number to create word clusters\n",
    "* Inspect & validate the correction of each cluster wrt the complaints \n",
    "* Correct the labels if needed \n",
    "* Map the clusters to topics/cluster names"
   ]
  },
  {
   "cell_type": "code",
   "execution_count": 47,
   "metadata": {
    "id": "amLT4omWJrGB"
   },
   "outputs": [],
   "source": [
    "from sklearn.decomposition import NMF"
   ]
  },
  {
   "cell_type": "markdown",
   "metadata": {
    "id": "0wYR1xUTJrGD"
   },
   "source": [
    "## Manual Topic Modeling\n",
    "You need to do take the trial & error approach to find the best num of topics for your NMF model.\n",
    "\n",
    "The only parameter that is required is the number of components i.e. the number of topics we want. This is the most crucial step in the whole topic modeling process and will greatly affect how good your final topics are."
   ]
  },
  {
   "cell_type": "code",
   "execution_count": 48,
   "metadata": {
    "id": "sgd2A6bhJrGD"
   },
   "outputs": [],
   "source": [
    "#Load your nmf_model with the n_components i.e 5\n",
    "num_topics = 5 #write the value you want to test out\n",
    "\n",
    "#keep the random_state =40\n",
    "nmf_model = NMF(n_components=num_topics, random_state=40)"
   ]
  },
  {
   "cell_type": "code",
   "execution_count": 49,
   "metadata": {
    "id": "VPMDYbt_JrGE"
   },
   "outputs": [
    {
     "ename": "",
     "evalue": "",
     "output_type": "error",
     "traceback": [
      "\u001b[1;31mThe Kernel crashed while executing code in the current cell or a previous cell. \n",
      "\u001b[1;31mPlease review the code in the cell(s) to identify a possible cause of the failure. \n",
      "\u001b[1;31mClick <a href='https://aka.ms/vscodeJupyterKernelCrash'>here</a> for more info. \n",
      "\u001b[1;31mView Jupyter <a href='command:jupyter.viewOutput'>log</a> for further details."
     ]
    }
   ],
   "source": [
    "nmf_model.fit(dtm)"
   ]
  },
  {
   "cell_type": "code",
   "execution_count": null,
   "metadata": {},
   "outputs": [],
   "source": [
    "feature_names = tfidf_vectorizer.get_feature_names_out()"
   ]
  },
  {
   "cell_type": "code",
   "execution_count": null,
   "metadata": {
    "id": "16kRfat5JrGE"
   },
   "outputs": [],
   "source": [
    "#Print the Top15 words for each of the topics\n",
    "def print_top_words(model, feature_names, n_top_words):\n",
    "    for topic_idx, topic in enumerate(model.components_):\n",
    "        print(f\"Topic {topic_idx + 1}:\")\n",
    "        top_features_indices = topic.argsort()[-n_top_words:][::-1]\n",
    "        top_features = [feature_names[i] for i in top_features_indices]\n",
    "        print(\" \".join(top_features))\n",
    "        print()\n",
    "print_top_words(nmf_model, tfidf_vectorizer.get_feature_names_out(), 15)\n"
   ]
  },
  {
   "cell_type": "code",
   "execution_count": null,
   "metadata": {
    "id": "0OIT7LmFJrGF"
   },
   "outputs": [],
   "source": [
    "#Create the best topic for each complaint in terms of integer value 0,1,2,3 & 4\n",
    "topic_values = nmf_model.transform(dtm)\n",
    "df_clean['best_topic'] = topic_values.argmax(axis=1)\n",
    "#Print the best topic for each complaint\n",
    "print(\"Best Topic for Each Complaint:\")\n",
    "print(df_clean[['complaint_description', 'best_topic']].head(10))\n",
    "\n"
   ]
  },
  {
   "cell_type": "code",
   "execution_count": null,
   "metadata": {
    "id": "peyYv-ORJrGF"
   },
   "outputs": [],
   "source": [
    "#Assign the best topic to each of the cmplaints in Topic Column\n",
    "\n",
    "df_clean['Topic'] = df_clean['best_topic'].map({\n",
    "    0: 'Topic 1',\n",
    "    1: 'Topic 2',\n",
    "    2: 'Topic 3',\n",
    "    3: 'Topic 4',\n",
    "    4: 'Topic 5'\n",
    "})"
   ]
  },
  {
   "cell_type": "code",
   "execution_count": null,
   "metadata": {
    "id": "fLh_Gf3nJrGF"
   },
   "outputs": [],
   "source": [
    "df_clean.head()"
   ]
  },
  {
   "cell_type": "code",
   "execution_count": null,
   "metadata": {
    "id": "aQKpufSPJrGG"
   },
   "outputs": [],
   "source": [
    "#Print the first 5 Complaint for each of the Topics\n",
    "df_clean=df_clean.groupby('Topic').head(5)\n",
    "df_clean.sort_values('Topic')"
   ]
  },
  {
   "cell_type": "markdown",
   "metadata": {
    "id": "piyLxzj6v07j"
   },
   "source": [
    "#### After evaluating the mapping, if the topics assigned are correct then assign these names to the relevant topic:\n",
    "* Bank Account services\n",
    "* Credit card or prepaid card\n",
    "* Theft/Dispute Reporting\n",
    "* Mortgage/Loan\n",
    "* Others"
   ]
  },
  {
   "cell_type": "code",
   "execution_count": null,
   "metadata": {
    "id": "TWpwDG4RJrGG"
   },
   "outputs": [],
   "source": [
    "#Create the dictionary of Topic names and Topics\n",
    "\n",
    "Topic_names = {   }\n",
    "#Replace Topics with Topic Names\n",
    "df_clean['Topic'] = df_clean['Topic'].map(Topic_names)"
   ]
  },
  {
   "cell_type": "code",
   "execution_count": null,
   "metadata": {
    "id": "-2ULY5K6JrGG"
   },
   "outputs": [],
   "source": [
    "df_clean"
   ]
  },
  {
   "cell_type": "markdown",
   "metadata": {
    "id": "7Mu0QBOcJrGH"
   },
   "source": [
    "## Supervised model to predict any new complaints to the relevant Topics.\n",
    "\n",
    "You have now build the model to create the topics for each complaints.Now in the below section you will use them to classify any new complaints.\n",
    "\n",
    "Since you will be using supervised learning technique we have to convert the topic names to numbers(numpy arrays only understand numbers)"
   ]
  },
  {
   "cell_type": "code",
   "execution_count": null,
   "metadata": {
    "id": "_U8J3J8wJrGH"
   },
   "outputs": [],
   "source": [
    "#Create the dictionary again of Topic names and Topics\n",
    "\n",
    "Topic_names = {   }\n",
    "#Replace Topics with Topic Names\n",
    "df_clean['Topic'] = df_clean['Topic'].map(Topic_names)"
   ]
  },
  {
   "cell_type": "code",
   "execution_count": null,
   "metadata": {
    "id": "BWIgJUkQJrGH"
   },
   "outputs": [],
   "source": [
    "df_clean"
   ]
  },
  {
   "cell_type": "code",
   "execution_count": null,
   "metadata": {
    "id": "Xx-FrbkWJrGH"
   },
   "outputs": [],
   "source": [
    "#Keep the columns\"complaint_what_happened\" & \"Topic\" only in the new dataframe --> training_data\n",
    "training_data="
   ]
  },
  {
   "cell_type": "code",
   "execution_count": null,
   "metadata": {
    "id": "lVg2pa12JrGI"
   },
   "outputs": [],
   "source": [
    "training_data"
   ]
  },
  {
   "cell_type": "markdown",
   "metadata": {
    "id": "280Vbqk-7a8M"
   },
   "source": [
    "####Apply the supervised models on the training data created. In this process, you have to do the following:\n",
    "* Create the vector counts using Count Vectoriser\n",
    "* Transform the word vecotr to tf-idf\n",
    "* Create the train & test data using the train_test_split on the tf-idf & topics\n"
   ]
  },
  {
   "cell_type": "code",
   "execution_count": null,
   "metadata": {
    "id": "oUlQpgkzJrGI"
   },
   "outputs": [],
   "source": [
    "\n",
    "#Write your code to get the Vector count\n",
    "\n",
    "\n",
    "#Write your code here to transform the word vector to tf-idf"
   ]
  },
  {
   "cell_type": "markdown",
   "metadata": {
    "id": "uMU3vj6w-wqL"
   },
   "source": [
    "You have to try atleast 3 models on the train & test data from these options:\n",
    "* Logistic regression\n",
    "* Decision Tree\n",
    "* Random Forest\n",
    "* Naive Bayes (optional)\n",
    "\n",
    "**Using the required evaluation metrics judge the tried models and select the ones performing the best**"
   ]
  },
  {
   "cell_type": "code",
   "execution_count": null,
   "metadata": {
    "id": "udLHpPsZJrGI"
   },
   "outputs": [],
   "source": [
    "# Write your code here to build any 3 models and evaluate them using the required metrics\n",
    "\n",
    "\n",
    "\n"
   ]
  },
  {
   "cell_type": "code",
   "execution_count": null,
   "metadata": {
    "id": "N2OznsObJrGP"
   },
   "outputs": [],
   "source": []
  }
 ],
 "metadata": {
  "colab": {
   "collapsed_sections": [
    "T9jD_6SeJrF3",
    "5DfCSbbmJrF4",
    "yYzD85nTJrGA",
    "piyLxzj6v07j",
    "280Vbqk-7a8M"
   ],
   "provenance": []
  },
  "kernelspec": {
   "display_name": "Python 3",
   "language": "python",
   "name": "python3"
  },
  "language_info": {
   "codemirror_mode": {
    "name": "ipython",
    "version": 3
   },
   "file_extension": ".py",
   "mimetype": "text/x-python",
   "name": "python",
   "nbconvert_exporter": "python",
   "pygments_lexer": "ipython3",
   "version": "3.12.8"
  }
 },
 "nbformat": 4,
 "nbformat_minor": 0
}
